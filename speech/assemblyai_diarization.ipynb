{
 "cells": [
  {
   "cell_type": "code",
   "execution_count": 1,
   "metadata": {},
   "outputs": [
    {
     "name": "stdout",
     "output_type": "stream",
     "text": [
      "Collecting assemblyai\n",
      "  Downloading assemblyai-0.36.0-py3-none-any.whl.metadata (29 kB)\n",
      "Requirement already satisfied: httpx>=0.19.0 in /Users/danielmlow/miniconda3/envs/ct/lib/python3.10/site-packages (from assemblyai) (0.27.2)\n",
      "Requirement already satisfied: pydantic>=1.10.17 in /Users/danielmlow/miniconda3/envs/ct/lib/python3.10/site-packages (from assemblyai) (2.9.1)\n",
      "Requirement already satisfied: typing-extensions>=3.7 in /Users/danielmlow/miniconda3/envs/ct/lib/python3.10/site-packages (from assemblyai) (4.12.2)\n",
      "Collecting websockets>=11.0 (from assemblyai)\n",
      "  Downloading websockets-14.1-cp310-cp310-macosx_11_0_arm64.whl.metadata (6.7 kB)\n",
      "Requirement already satisfied: anyio in /Users/danielmlow/miniconda3/envs/ct/lib/python3.10/site-packages (from httpx>=0.19.0->assemblyai) (4.4.0)\n",
      "Requirement already satisfied: certifi in /Users/danielmlow/miniconda3/envs/ct/lib/python3.10/site-packages (from httpx>=0.19.0->assemblyai) (2024.8.30)\n",
      "Requirement already satisfied: httpcore==1.* in /Users/danielmlow/miniconda3/envs/ct/lib/python3.10/site-packages (from httpx>=0.19.0->assemblyai) (1.0.5)\n",
      "Requirement already satisfied: idna in /Users/danielmlow/miniconda3/envs/ct/lib/python3.10/site-packages (from httpx>=0.19.0->assemblyai) (3.10)\n",
      "Requirement already satisfied: sniffio in /Users/danielmlow/miniconda3/envs/ct/lib/python3.10/site-packages (from httpx>=0.19.0->assemblyai) (1.3.1)\n",
      "Requirement already satisfied: h11<0.15,>=0.13 in /Users/danielmlow/miniconda3/envs/ct/lib/python3.10/site-packages (from httpcore==1.*->httpx>=0.19.0->assemblyai) (0.14.0)\n",
      "Requirement already satisfied: annotated-types>=0.6.0 in /Users/danielmlow/miniconda3/envs/ct/lib/python3.10/site-packages (from pydantic>=1.10.17->assemblyai) (0.7.0)\n",
      "Requirement already satisfied: pydantic-core==2.23.3 in /Users/danielmlow/miniconda3/envs/ct/lib/python3.10/site-packages (from pydantic>=1.10.17->assemblyai) (2.23.3)\n",
      "Requirement already satisfied: exceptiongroup>=1.0.2 in /Users/danielmlow/miniconda3/envs/ct/lib/python3.10/site-packages (from anyio->httpx>=0.19.0->assemblyai) (1.2.2)\n",
      "Downloading assemblyai-0.36.0-py3-none-any.whl (44 kB)\n",
      "Downloading websockets-14.1-cp310-cp310-macosx_11_0_arm64.whl (159 kB)\n",
      "Installing collected packages: websockets, assemblyai\n",
      "Successfully installed assemblyai-0.36.0 websockets-14.1\n"
     ]
    }
   ],
   "source": [
    "!pip install assemblyai"
   ]
  },
  {
   "cell_type": "code",
   "execution_count": 7,
   "metadata": {},
   "outputs": [
    {
     "data": {
      "text/plain": [
       "['rainbow_passage_short.wav', 'rainbow_passage_short_breathy.wav']"
      ]
     },
     "execution_count": 7,
     "metadata": {},
     "output_type": "execute_result"
    }
   ],
   "source": [
    "import assemblyai as aai\n",
    "import os\n",
    "from datetime import datetime\n",
    "\n",
    "aai.settings.api_key = \"\"\n",
    "\n",
    "input_dir = '/Users/danielmlow/code/tutorials/data/input/audio_samples/'\n",
    "files = os.listdir(input_dir)\n",
    "files = [n for n in files if n[-3:] == 'wav'] # change to mp3\n",
    "files = [n for n in files if 'rainbow_passage' in n] # remove\n",
    "files\n",
    "\n",
    "\n"
   ]
  },
  {
   "cell_type": "code",
   "execution_count": null,
   "metadata": {},
   "outputs": [],
   "source": []
  },
  {
   "cell_type": "code",
   "execution_count": 59,
   "metadata": {},
   "outputs": [],
   "source": [
    "# over-ride the previous one with ones I want to test\n",
    "files = ['long_news_report.wav',  'conversation_with_child.wav']"
   ]
  },
  {
   "cell_type": "code",
   "execution_count": 60,
   "metadata": {},
   "outputs": [],
   "source": [
    "\n",
    "output_dir = '/Users/danielmlow/code/tutorials/data/output/assemblyai/'\n",
    "os.makedirs(output_dir, exist_ok=True)"
   ]
  },
  {
   "cell_type": "code",
   "execution_count": 62,
   "metadata": {},
   "outputs": [],
   "source": [
    "config = aai.TranscriptionConfig(\n",
    "    speaker_labels=True,\n",
    "    )\n",
    "\n",
    "\n",
    "\n",
    "for file in files[:2]: # just test first 2. Remove [:2], that's just for testing\n",
    "    audio_file = input_dir+file # full pathname\n",
    "    transcript = aai.Transcriber().transcribe(audio_file, config) #transcribe using assembly AI\n",
    "\n",
    "    readable_format = datetime.now().strftime(\"%Y-%m-%d-%H-%M-%S\") # add timestamp to output txt file\n",
    "    txt_output_filename_metadata = output_dir+f'{file[:-4]}_{readable_format}_metadata.txt' #metadata filename\n",
    "    txt_output_filename_transcript = output_dir+f'{file[:-4]}_{readable_format}_transcript.txt' # transcript filename\n",
    "\n",
    "    # Save metadata\n",
    "    with open(txt_output_filename_metadata, 'a') as f: # open a txt file \n",
    "        f.write(\"file: \"+audio_file+'\\n\\n')\n",
    "        attributes = dir(transcript)\n",
    "        # Filter out built-in attributes (those starting with '__')\n",
    "        filtered_attributes = [attr for attr in attributes if not attr.startswith('__')]\n",
    "        # Print all the attributes\n",
    "        for attr in filtered_attributes:\n",
    "            f.write(f\"=={attr}: {getattr(transcript, attr)}\\n\\n\")\n",
    "    # save just transcript. loop through each utterance of the transcript.\n",
    "    for utterance in transcript.utterances: \n",
    "        with open(txt_output_filename_transcript, 'a+') as f:\n",
    "            if utterance.speaker != None and utterance.text != None:\n",
    "                f.write(f\"Speaker {utterance.speaker}: {utterance.text}\\n\")\n",
    "\n",
    "\n"
   ]
  },
  {
   "cell_type": "markdown",
   "metadata": {},
   "source": [
    "# Replace Speaker A with therapist and Speaker B with patient (might not always be accurate)"
   ]
  },
  {
   "cell_type": "code",
   "execution_count": null,
   "metadata": {},
   "outputs": [],
   "source": [
    "\n",
    "transcripts_filenames = os.listdir(output_dir)\n",
    "for i, filename in enumerate(transcripts_filenames[0:]):\n",
    "    print(i, filename)\n",
    "    \n",
    "    # Input replacement names\n",
    "    speaker_a_name = 'therapist'\n",
    "    speaker_b_name = 'patient'\n",
    "\n",
    "    # Open the original file and read the content\n",
    "    with open(transcript, \"r\") as file:\n",
    "        content = file.read()\n",
    "\n",
    "    # Replace Speaker A and Speaker B with the new names\n",
    "    content = content.replace(\"Speaker A\", speaker_a_name)\n",
    "    content = content.replace(\"Speaker B\", speaker_b_name)\n",
    "\n",
    "    # Save the updated content to the new file\n",
    "    with open(transcript.replace('.txt', '_idspeakers.txt'), \"w\") as file:\n",
    "        file.write(content)\n"
   ]
  },
  {
   "cell_type": "markdown",
   "metadata": {},
   "source": [
    "# Or Listen to audio files and replace manually, assuming the assignment of speaker A is always the same speaker and same for B."
   ]
  },
  {
   "cell_type": "code",
   "execution_count": null,
   "metadata": {},
   "outputs": [],
   "source": [
    "from IPython.display import Audio, display\n",
    "\n",
    "# Path to your audio file\n",
    "audio_file = \"your_audio_file.mp3\"  # Replace with your audio file's name\n",
    "\n",
    "# Automatically play the audio\n",
    "\n",
    "# Listen to each file and determine who speaker A and speaker B are:\n",
    "\n",
    "transcripts_filenames = os.listdir(output_dir)\n",
    "for i, filename in enumerate(transcripts_filenames[0:]):\n",
    "    print(i, filename)\n",
    "    audio_filepath = input_dir+transcript.split('_')[0]+'.mp3' # this you need to make sure you can obtain the audio filename from the transcript filenanme\n",
    "    display(Audio(filename=audio_file, autoplay=True))\n",
    "\n",
    "    # Input replacement names\n",
    "    speaker_a_name = input(\"Enter the name to replace 'Speaker A': \") # t or p (for therapist or patient). Most likely first speaker will be therapist?\n",
    "    speaker_b_name = input(\"Enter the name to replace 'Speaker B': \") # t or p (for therapist or patient)\n",
    "\n",
    "    # Open the original file and read the content\n",
    "    with open(transcript, \"r\") as file:\n",
    "        content = file.read()\n",
    "\n",
    "    # Replace Speaker A and Speaker B with the new names\n",
    "    content = content.replace(\"Speaker A\", speaker_a_name)\n",
    "    content = content.replace(\"Speaker B\", speaker_b_name)\n",
    "\n",
    "    # Save the updated content to the new file\n",
    "    with open(transcript.replace('.txt', '_idspeakers.txt'), \"w\") as file:\n",
    "        file.write(content)\n"
   ]
  },
  {
   "cell_type": "code",
   "execution_count": null,
   "metadata": {},
   "outputs": [],
   "source": []
  },
  {
   "cell_type": "code",
   "execution_count": null,
   "metadata": {},
   "outputs": [],
   "source": []
  }
 ],
 "metadata": {
  "kernelspec": {
   "display_name": "ct",
   "language": "python",
   "name": "python3"
  },
  "language_info": {
   "codemirror_mode": {
    "name": "ipython",
    "version": 3
   },
   "file_extension": ".py",
   "mimetype": "text/x-python",
   "name": "python",
   "nbconvert_exporter": "python",
   "pygments_lexer": "ipython3",
   "version": "3.10.14"
  }
 },
 "nbformat": 4,
 "nbformat_minor": 2
}
