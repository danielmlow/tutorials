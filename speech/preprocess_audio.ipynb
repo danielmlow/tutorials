{
  "cells": [
    {
      "cell_type": "markdown",
      "metadata": {
        "id": "view-in-github",
        "colab_type": "text"
      },
      "source": [
        "<a href=\"https://colab.research.google.com/github/danielmlow/tutorials/blob/main/speech/preprocess_audio.ipynb\" target=\"_parent\"><img src=\"https://colab.research.google.com/assets/colab-badge.svg\" alt=\"Open In Colab\"/></a>"
      ]
    },
    {
      "cell_type": "code",
      "source": [
        "# !pip install librosa\n",
        "# conda install -c conda-forge ffmpeg"
      ],
      "metadata": {
        "id": "_BkZ22cdGvPd"
      },
      "id": "_BkZ22cdGvPd",
      "execution_count": null,
      "outputs": []
    },
    {
      "cell_type": "markdown",
      "id": "c2096c5c-908d-42ab-ac17-5816d62fa7e4",
      "metadata": {
        "id": "c2096c5c-908d-42ab-ac17-5816d62fa7e4"
      },
      "source": [
        "# Downsample audio files to 16khz "
      ]
    },
    {
      "cell_type": "markdown",
      "source": [
        "### Librosa"
      ],
      "metadata": {
        "id": "NZn8P0krHYwg"
      },
      "id": "NZn8P0krHYwg"
    },
    {
      "cell_type": "code",
      "source": [
        "import librosa    \n",
        "y, s = librosa.load('test.wav', sr=8000) # Downsample 44.1kHz to 8kHz\n",
        "librosa.output.write_wav(filename, y, sr)"
      ],
      "metadata": {
        "id": "T3ldwryjGvC3"
      },
      "id": "T3ldwryjGvC3",
      "execution_count": null,
      "outputs": []
    },
    {
      "cell_type": "code",
      "source": [
        "# or use resample\n",
        "y, sr = librosa.load(librosa.ex('trumpet'), sr=22050)\n",
        "y_8k = librosa.resample(y, orig_sr=sr, target_sr=8000)"
      ],
      "metadata": {
        "id": "7k7yEjaGHKRp"
      },
      "id": "7k7yEjaGHKRp",
      "execution_count": null,
      "outputs": []
    },
    {
      "cell_type": "markdown",
      "source": [
        "### Sox"
      ],
      "metadata": {
        "id": "MA8R1uP-Hbhc"
      },
      "id": "MA8R1uP-Hbhc"
    },
    {
      "cell_type": "code",
      "execution_count": null,
      "id": "34a85bb8-c84a-4c07-b091-e18c7e62630b",
      "metadata": {
        "id": "34a85bb8-c84a-4c07-b091-e18c7e62630b"
      },
      "outputs": [],
      "source": [
        "\n",
        "\n",
        "import subprocess"
      ]
    },
    {
      "cell_type": "code",
      "execution_count": null,
      "id": "76400c54-2070-490f-be1a-92b2abb9708f",
      "metadata": {
        "id": "76400c54-2070-490f-be1a-92b2abb9708f"
      },
      "outputs": [],
      "source": [
        "# here mkdir doesn't replace, it creates if it doesn't exist. \n",
        "\n",
        "# Change paths accordingly\n",
        "\n",
        "cmd = f'''\n",
        "input_dir='./data/input/'\n",
        "output_dir='./data/output/'\n",
        "files_to_find=\"*.wav\"\n",
        "downsample_to=16000\n",
        "\n",
        "\n",
        "mkdir -p $output_dir\n",
        "for i in $input_dir$files_to_find; do\n",
        "    o=$output_dir/${i#$input_dir}\n",
        "    sox \"$i\" -r $downsample_to \"${o%}\"\n",
        "done\n",
        "'''\n",
        "subprocess.check_output(cmd, shell=True)"
      ]
    }
  ],
  "metadata": {
    "kernelspec": {
      "display_name": "Python 3 (ipykernel)",
      "language": "python",
      "name": "python3"
    },
    "language_info": {
      "codemirror_mode": {
        "name": "ipython",
        "version": 3
      },
      "file_extension": ".py",
      "mimetype": "text/x-python",
      "name": "python",
      "nbconvert_exporter": "python",
      "pygments_lexer": "ipython3",
      "version": "3.7.12"
    },
    "colab": {
      "provenance": [],
      "include_colab_link": true
    }
  },
  "nbformat": 4,
  "nbformat_minor": 5
}