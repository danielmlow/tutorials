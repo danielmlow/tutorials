{
  "nbformat": 4,
  "nbformat_minor": 0,
  "metadata": {
    "colab": {
      "provenance": [],
      "authorship_tag": "ABX9TyPsD6IbHDjQ0brO/0C9Q4Xy",
      "include_colab_link": true
    },
    "kernelspec": {
      "name": "python3",
      "display_name": "Python 3"
    },
    "language_info": {
      "name": "python"
    }
  },
  "cells": [
    {
      "cell_type": "markdown",
      "metadata": {
        "id": "view-in-github",
        "colab_type": "text"
      },
      "source": [
        "<a href=\"https://colab.research.google.com/github/danielmlow/tutorials/blob/main/speech/play_audio.ipynb\" target=\"_parent\"><img src=\"https://colab.research.google.com/assets/colab-badge.svg\" alt=\"Open In Colab\"/></a>"
      ]
    },
    {
      "cell_type": "code",
      "execution_count": null,
      "metadata": {
        "id": "14KdXEnB1eG4"
      },
      "outputs": [],
      "source": [
        "from IPython import display\n",
        "from scipy.io import wavfile\n",
        "import ipywidgets as widgets\n",
        "\n",
        "i = 0\n",
        "path_i = './path/to/file.wav'\n",
        "samplerate, data = wavfile.read(path_i)\n",
        "print(f'======= file #{i}, {np.round(data.shape[0]/samplerate,3)} sec')\n",
        "display.display(display.Audio(path_i, autoplay=False), widgets.Textarea('')) # Display speech"
      ]
    }
  ]
}