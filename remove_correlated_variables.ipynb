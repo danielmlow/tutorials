{
  "nbformat": 4,
  "nbformat_minor": 0,
  "metadata": {
    "colab": {
      "provenance": [],
      "authorship_tag": "ABX9TyOZpZh2BtJpC1qtiLUZt1DL",
      "include_colab_link": true
    },
    "kernelspec": {
      "name": "python3",
      "display_name": "Python 3"
    },
    "language_info": {
      "name": "python"
    }
  },
  "cells": [
    {
      "cell_type": "markdown",
      "metadata": {
        "id": "view-in-github",
        "colab_type": "text"
      },
      "source": [
        "<a href=\"https://colab.research.google.com/github/danielmlow/tutorials/blob/main/remove_correlated_variables.ipynb\" target=\"_parent\"><img src=\"https://colab.research.google.com/assets/colab-badge.svg\" alt=\"Open In Colab\"/></a>"
      ]
    },
    {
      "cell_type": "code",
      "execution_count": null,
      "metadata": {
        "id": "4WacyNKfbxMD"
      },
      "outputs": [],
      "source": [
        "from scipy.stats import spearmanr\n",
        "\n",
        "\n",
        "#run clustermap seaborn before and after\n",
        "\n",
        "threshold = 0.8\n",
        "\n",
        "keep = []\n",
        "remove = []\n",
        "\n",
        "variable_names = df.columns.tolist()\n",
        "\n",
        "from random import shuffle\n",
        "shuffle(variable_names)\n",
        "\n",
        "for variable_name in variable_names:\n",
        "  if variable_name in keep or variable_name in remove:\n",
        "    continue\n",
        "  df_other_variables = df.drop(variable_name, axis=1)\n",
        "  # correlations = [[spearmanr(df[variable], df[variable_other], variable_other] for variable_other in other_variables.columns)\n",
        "  for other_variable_name in df_other_variables.columns:\n",
        "\n",
        "    r, p = spearmanr(df[variable_name], df[other_variable_name]) #correlating two columns\n",
        "    if r>=threshold:\n",
        "      remove.append(other_variable_name) #adding other col to remove list\n",
        "    else:\n",
        "      keep.append(other_variable_name) #adding other col to keep list\n",
        "    \n",
        "    keep.append(variable_name) #always keep if not in keep or remove lists. \n",
        "\n",
        "  \n",
        "\n",
        "\n",
        "\n",
        "\n",
        "  "
      ]
    }
  ]
}