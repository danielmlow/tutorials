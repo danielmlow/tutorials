{
  "nbformat": 4,
  "nbformat_minor": 0,
  "metadata": {
    "colab": {
      "provenance": [],
      "authorship_tag": "ABX9TyNTLW0TajxBC9yVlwcxfiYS",
      "include_colab_link": true
    },
    "kernelspec": {
      "name": "python3",
      "display_name": "Python 3"
    },
    "language_info": {
      "name": "python"
    }
  },
  "cells": [
    {
      "cell_type": "markdown",
      "metadata": {
        "id": "view-in-github",
        "colab_type": "text"
      },
      "source": [
        "<a href=\"https://colab.research.google.com/github/danielmlow/tutorials/blob/main/plotting_and_io/import_local_package.ipynb\" target=\"_parent\"><img src=\"https://colab.research.google.com/assets/colab-badge.svg\" alt=\"Open In Colab\"/></a>"
      ]
    },
    {
      "cell_type": "code",
      "execution_count": null,
      "metadata": {
        "id": "ZA3CeKu5RbsA"
      },
      "outputs": [],
      "source": [
        "import sys\n",
        "# caution: path[0] is reserved for script path (or '' in REPL)\n",
        "sys.path.insert(1, './../catpro')\n",
        "from catpro.tools.datetime_conversions import utc0_to_timezone, str_time_to_datetime"
      ]
    },
    {
      "cell_type": "markdown",
      "source": [
        "Catpro: make package using \n",
        "- cookiecutter-hypermodern-python: https://cookiecutter-hypermodern-python.readthedocs.io/en/2020.6.15/guide.html \n",
        "- simpler: https://cookiecutter-poetry.readthedocs.io/en/latest/tutorial.html \n",
        "- after 'setup.py' nor 'pyproject.toml' are added, pip install private repo https://stackoverflow.com/questions/4830856/is-it-possible-to-use-pip-to-install-a-package-from-a-private-github-repository"
      ],
      "metadata": {
        "id": "CznHQHcfRdOm"
      }
    },
    {
      "cell_type": "code",
      "source": [],
      "metadata": {
        "id": "FDV_rqsFRlHV"
      },
      "execution_count": null,
      "outputs": []
    }
  ]
}