{
  "nbformat": 4,
  "nbformat_minor": 0,
  "metadata": {
    "colab": {
      "name": "merge_list_of_dfs.ipynb",
      "provenance": [],
      "collapsed_sections": [],
      "authorship_tag": "ABX9TyNrjFiN6p4IbLH1fJrQ/lY5",
      "include_colab_link": true
    },
    "kernelspec": {
      "name": "python3",
      "display_name": "Python 3"
    },
    "language_info": {
      "name": "python"
    }
  },
  "cells": [
    {
      "cell_type": "markdown",
      "metadata": {
        "id": "view-in-github",
        "colab_type": "text"
      },
      "source": [
        "<a href=\"https://colab.research.google.com/github/danielmlow/tutorials/blob/main/plotting_and_io/merge_list_of_dfs.ipynb\" target=\"_parent\"><img src=\"https://colab.research.google.com/assets/colab-badge.svg\" alt=\"Open In Colab\"/></a>"
      ]
    },
    {
      "cell_type": "code",
      "execution_count": null,
      "metadata": {
        "id": "wZBg8JO5AXR1"
      },
      "outputs": [],
      "source": [
        "import pandas as pd\n",
        "\n",
        "def merge_list_dfs(list_of_dfs):\n",
        "  '''\n",
        "  Checks which cols are in common and merges based on those. \n",
        "  '''\n",
        "    df = list_of_dfs[0].astype(str) # converting to str \n",
        "    for df_i in list_of_dfs[1:]:\n",
        "        cols_a = set(df.columns)\n",
        "        cols_b = set(df_i.columns)\n",
        "        intersection_a_b = list(cols_a.intersection(cols_b))\n",
        "        if intersection_a_b == []:\n",
        "            df = pd.concat([df,df_i.astype(str)], axis=1)\n",
        "        else:\n",
        "            df = df.merge(df_i.astype(str), on=intersection_a_b, how='outer')\n",
        "    return df \n",
        "\n",
        "\n",
        "merge_list_dfs(list_of_dfs)\n",
        "\n",
        "\n",
        "\n",
        "from collections import Counter\n",
        "def append_to_duplicate_col_names(df):\n",
        "    \n",
        "    # rename duplicate cols. if the col already exists, add _copyN to it and concat\n",
        "    count_cols = Counter(df.columns)\n",
        "    duplicated_cols = [key for key,value in count_cols.items() if value>1]\n",
        "    # print(duplicated_cols)\n",
        "    cols = df.columns.tolist()\n",
        "    new_cols = df.columns.tolist()\n",
        "    for col in duplicated_cols:        \n",
        "        indices = [i for i, x in enumerate(cols) if x == col]\n",
        "        for i, index in enumerate(indices):\n",
        "            new_cols[index] = f'{cols[index]}_copy{i}'\n",
        "    df.columns = new_cols\n",
        "    return df"
      ]
    }
  ]
}