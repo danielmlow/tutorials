{
 "cells": [
  {
   "cell_type": "code",
   "execution_count": 16,
   "metadata": {},
   "outputs": [
    {
     "data": {
      "application/vnd.plotly.v1+json": {
       "config": {
        "plotlyServerURL": "https://plot.ly"
       },
       "data": [
        {
         "dimensions": [
          {
           "label": "Input",
           "values": [
            "Text",
            "Speech",
            "Text",
            "Tabular"
           ]
          },
          {
           "label": "Method",
           "values": [
            "ML",
            "Statistics",
            "Causal inference",
            "ML"
           ]
          },
          {
           "label": "Topic",
           "values": [
            "Suicide",
            "Psychology",
            "Psychedelics",
            "Meditation"
           ]
          }
         ],
         "domain": {
          "x": [
           0,
           1
          ],
          "y": [
           0,
           1
          ]
         },
         "name": "",
         "type": "parcats"
        }
       ],
       "layout": {
        "legend": {
         "tracegroupgap": 0
        },
        "margin": {
         "t": 60
        },
        "template": {
         "data": {
          "bar": [
           {
            "error_x": {
             "color": "#2a3f5f"
            },
            "error_y": {
             "color": "#2a3f5f"
            },
            "marker": {
             "line": {
              "color": "#E5ECF6",
              "width": 0.5
             },
             "pattern": {
              "fillmode": "overlay",
              "size": 10,
              "solidity": 0.2
             }
            },
            "type": "bar"
           }
          ],
          "barpolar": [
           {
            "marker": {
             "line": {
              "color": "#E5ECF6",
              "width": 0.5
             },
             "pattern": {
              "fillmode": "overlay",
              "size": 10,
              "solidity": 0.2
             }
            },
            "type": "barpolar"
           }
          ],
          "carpet": [
           {
            "aaxis": {
             "endlinecolor": "#2a3f5f",
             "gridcolor": "white",
             "linecolor": "white",
             "minorgridcolor": "white",
             "startlinecolor": "#2a3f5f"
            },
            "baxis": {
             "endlinecolor": "#2a3f5f",
             "gridcolor": "white",
             "linecolor": "white",
             "minorgridcolor": "white",
             "startlinecolor": "#2a3f5f"
            },
            "type": "carpet"
           }
          ],
          "choropleth": [
           {
            "colorbar": {
             "outlinewidth": 0,
             "ticks": ""
            },
            "type": "choropleth"
           }
          ],
          "contour": [
           {
            "colorbar": {
             "outlinewidth": 0,
             "ticks": ""
            },
            "colorscale": [
             [
              0,
              "#0d0887"
             ],
             [
              0.1111111111111111,
              "#46039f"
             ],
             [
              0.2222222222222222,
              "#7201a8"
             ],
             [
              0.3333333333333333,
              "#9c179e"
             ],
             [
              0.4444444444444444,
              "#bd3786"
             ],
             [
              0.5555555555555556,
              "#d8576b"
             ],
             [
              0.6666666666666666,
              "#ed7953"
             ],
             [
              0.7777777777777778,
              "#fb9f3a"
             ],
             [
              0.8888888888888888,
              "#fdca26"
             ],
             [
              1,
              "#f0f921"
             ]
            ],
            "type": "contour"
           }
          ],
          "contourcarpet": [
           {
            "colorbar": {
             "outlinewidth": 0,
             "ticks": ""
            },
            "type": "contourcarpet"
           }
          ],
          "heatmap": [
           {
            "colorbar": {
             "outlinewidth": 0,
             "ticks": ""
            },
            "colorscale": [
             [
              0,
              "#0d0887"
             ],
             [
              0.1111111111111111,
              "#46039f"
             ],
             [
              0.2222222222222222,
              "#7201a8"
             ],
             [
              0.3333333333333333,
              "#9c179e"
             ],
             [
              0.4444444444444444,
              "#bd3786"
             ],
             [
              0.5555555555555556,
              "#d8576b"
             ],
             [
              0.6666666666666666,
              "#ed7953"
             ],
             [
              0.7777777777777778,
              "#fb9f3a"
             ],
             [
              0.8888888888888888,
              "#fdca26"
             ],
             [
              1,
              "#f0f921"
             ]
            ],
            "type": "heatmap"
           }
          ],
          "heatmapgl": [
           {
            "colorbar": {
             "outlinewidth": 0,
             "ticks": ""
            },
            "colorscale": [
             [
              0,
              "#0d0887"
             ],
             [
              0.1111111111111111,
              "#46039f"
             ],
             [
              0.2222222222222222,
              "#7201a8"
             ],
             [
              0.3333333333333333,
              "#9c179e"
             ],
             [
              0.4444444444444444,
              "#bd3786"
             ],
             [
              0.5555555555555556,
              "#d8576b"
             ],
             [
              0.6666666666666666,
              "#ed7953"
             ],
             [
              0.7777777777777778,
              "#fb9f3a"
             ],
             [
              0.8888888888888888,
              "#fdca26"
             ],
             [
              1,
              "#f0f921"
             ]
            ],
            "type": "heatmapgl"
           }
          ],
          "histogram": [
           {
            "marker": {
             "pattern": {
              "fillmode": "overlay",
              "size": 10,
              "solidity": 0.2
             }
            },
            "type": "histogram"
           }
          ],
          "histogram2d": [
           {
            "colorbar": {
             "outlinewidth": 0,
             "ticks": ""
            },
            "colorscale": [
             [
              0,
              "#0d0887"
             ],
             [
              0.1111111111111111,
              "#46039f"
             ],
             [
              0.2222222222222222,
              "#7201a8"
             ],
             [
              0.3333333333333333,
              "#9c179e"
             ],
             [
              0.4444444444444444,
              "#bd3786"
             ],
             [
              0.5555555555555556,
              "#d8576b"
             ],
             [
              0.6666666666666666,
              "#ed7953"
             ],
             [
              0.7777777777777778,
              "#fb9f3a"
             ],
             [
              0.8888888888888888,
              "#fdca26"
             ],
             [
              1,
              "#f0f921"
             ]
            ],
            "type": "histogram2d"
           }
          ],
          "histogram2dcontour": [
           {
            "colorbar": {
             "outlinewidth": 0,
             "ticks": ""
            },
            "colorscale": [
             [
              0,
              "#0d0887"
             ],
             [
              0.1111111111111111,
              "#46039f"
             ],
             [
              0.2222222222222222,
              "#7201a8"
             ],
             [
              0.3333333333333333,
              "#9c179e"
             ],
             [
              0.4444444444444444,
              "#bd3786"
             ],
             [
              0.5555555555555556,
              "#d8576b"
             ],
             [
              0.6666666666666666,
              "#ed7953"
             ],
             [
              0.7777777777777778,
              "#fb9f3a"
             ],
             [
              0.8888888888888888,
              "#fdca26"
             ],
             [
              1,
              "#f0f921"
             ]
            ],
            "type": "histogram2dcontour"
           }
          ],
          "mesh3d": [
           {
            "colorbar": {
             "outlinewidth": 0,
             "ticks": ""
            },
            "type": "mesh3d"
           }
          ],
          "parcoords": [
           {
            "line": {
             "colorbar": {
              "outlinewidth": 0,
              "ticks": ""
             }
            },
            "type": "parcoords"
           }
          ],
          "pie": [
           {
            "automargin": true,
            "type": "pie"
           }
          ],
          "scatter": [
           {
            "fillpattern": {
             "fillmode": "overlay",
             "size": 10,
             "solidity": 0.2
            },
            "type": "scatter"
           }
          ],
          "scatter3d": [
           {
            "line": {
             "colorbar": {
              "outlinewidth": 0,
              "ticks": ""
             }
            },
            "marker": {
             "colorbar": {
              "outlinewidth": 0,
              "ticks": ""
             }
            },
            "type": "scatter3d"
           }
          ],
          "scattercarpet": [
           {
            "marker": {
             "colorbar": {
              "outlinewidth": 0,
              "ticks": ""
             }
            },
            "type": "scattercarpet"
           }
          ],
          "scattergeo": [
           {
            "marker": {
             "colorbar": {
              "outlinewidth": 0,
              "ticks": ""
             }
            },
            "type": "scattergeo"
           }
          ],
          "scattergl": [
           {
            "marker": {
             "colorbar": {
              "outlinewidth": 0,
              "ticks": ""
             }
            },
            "type": "scattergl"
           }
          ],
          "scattermapbox": [
           {
            "marker": {
             "colorbar": {
              "outlinewidth": 0,
              "ticks": ""
             }
            },
            "type": "scattermapbox"
           }
          ],
          "scatterpolar": [
           {
            "marker": {
             "colorbar": {
              "outlinewidth": 0,
              "ticks": ""
             }
            },
            "type": "scatterpolar"
           }
          ],
          "scatterpolargl": [
           {
            "marker": {
             "colorbar": {
              "outlinewidth": 0,
              "ticks": ""
             }
            },
            "type": "scatterpolargl"
           }
          ],
          "scatterternary": [
           {
            "marker": {
             "colorbar": {
              "outlinewidth": 0,
              "ticks": ""
             }
            },
            "type": "scatterternary"
           }
          ],
          "surface": [
           {
            "colorbar": {
             "outlinewidth": 0,
             "ticks": ""
            },
            "colorscale": [
             [
              0,
              "#0d0887"
             ],
             [
              0.1111111111111111,
              "#46039f"
             ],
             [
              0.2222222222222222,
              "#7201a8"
             ],
             [
              0.3333333333333333,
              "#9c179e"
             ],
             [
              0.4444444444444444,
              "#bd3786"
             ],
             [
              0.5555555555555556,
              "#d8576b"
             ],
             [
              0.6666666666666666,
              "#ed7953"
             ],
             [
              0.7777777777777778,
              "#fb9f3a"
             ],
             [
              0.8888888888888888,
              "#fdca26"
             ],
             [
              1,
              "#f0f921"
             ]
            ],
            "type": "surface"
           }
          ],
          "table": [
           {
            "cells": {
             "fill": {
              "color": "#EBF0F8"
             },
             "line": {
              "color": "white"
             }
            },
            "header": {
             "fill": {
              "color": "#C8D4E3"
             },
             "line": {
              "color": "white"
             }
            },
            "type": "table"
           }
          ]
         },
         "layout": {
          "annotationdefaults": {
           "arrowcolor": "#2a3f5f",
           "arrowhead": 0,
           "arrowwidth": 1
          },
          "autotypenumbers": "strict",
          "coloraxis": {
           "colorbar": {
            "outlinewidth": 0,
            "ticks": ""
           }
          },
          "colorscale": {
           "diverging": [
            [
             0,
             "#8e0152"
            ],
            [
             0.1,
             "#c51b7d"
            ],
            [
             0.2,
             "#de77ae"
            ],
            [
             0.3,
             "#f1b6da"
            ],
            [
             0.4,
             "#fde0ef"
            ],
            [
             0.5,
             "#f7f7f7"
            ],
            [
             0.6,
             "#e6f5d0"
            ],
            [
             0.7,
             "#b8e186"
            ],
            [
             0.8,
             "#7fbc41"
            ],
            [
             0.9,
             "#4d9221"
            ],
            [
             1,
             "#276419"
            ]
           ],
           "sequential": [
            [
             0,
             "#0d0887"
            ],
            [
             0.1111111111111111,
             "#46039f"
            ],
            [
             0.2222222222222222,
             "#7201a8"
            ],
            [
             0.3333333333333333,
             "#9c179e"
            ],
            [
             0.4444444444444444,
             "#bd3786"
            ],
            [
             0.5555555555555556,
             "#d8576b"
            ],
            [
             0.6666666666666666,
             "#ed7953"
            ],
            [
             0.7777777777777778,
             "#fb9f3a"
            ],
            [
             0.8888888888888888,
             "#fdca26"
            ],
            [
             1,
             "#f0f921"
            ]
           ],
           "sequentialminus": [
            [
             0,
             "#0d0887"
            ],
            [
             0.1111111111111111,
             "#46039f"
            ],
            [
             0.2222222222222222,
             "#7201a8"
            ],
            [
             0.3333333333333333,
             "#9c179e"
            ],
            [
             0.4444444444444444,
             "#bd3786"
            ],
            [
             0.5555555555555556,
             "#d8576b"
            ],
            [
             0.6666666666666666,
             "#ed7953"
            ],
            [
             0.7777777777777778,
             "#fb9f3a"
            ],
            [
             0.8888888888888888,
             "#fdca26"
            ],
            [
             1,
             "#f0f921"
            ]
           ]
          },
          "colorway": [
           "#636efa",
           "#EF553B",
           "#00cc96",
           "#ab63fa",
           "#FFA15A",
           "#19d3f3",
           "#FF6692",
           "#B6E880",
           "#FF97FF",
           "#FECB52"
          ],
          "font": {
           "color": "#2a3f5f"
          },
          "geo": {
           "bgcolor": "white",
           "lakecolor": "white",
           "landcolor": "#E5ECF6",
           "showlakes": true,
           "showland": true,
           "subunitcolor": "white"
          },
          "hoverlabel": {
           "align": "left"
          },
          "hovermode": "closest",
          "mapbox": {
           "style": "light"
          },
          "paper_bgcolor": "white",
          "plot_bgcolor": "#E5ECF6",
          "polar": {
           "angularaxis": {
            "gridcolor": "white",
            "linecolor": "white",
            "ticks": ""
           },
           "bgcolor": "#E5ECF6",
           "radialaxis": {
            "gridcolor": "white",
            "linecolor": "white",
            "ticks": ""
           }
          },
          "scene": {
           "xaxis": {
            "backgroundcolor": "#E5ECF6",
            "gridcolor": "white",
            "gridwidth": 2,
            "linecolor": "white",
            "showbackground": true,
            "ticks": "",
            "zerolinecolor": "white"
           },
           "yaxis": {
            "backgroundcolor": "#E5ECF6",
            "gridcolor": "white",
            "gridwidth": 2,
            "linecolor": "white",
            "showbackground": true,
            "ticks": "",
            "zerolinecolor": "white"
           },
           "zaxis": {
            "backgroundcolor": "#E5ECF6",
            "gridcolor": "white",
            "gridwidth": 2,
            "linecolor": "white",
            "showbackground": true,
            "ticks": "",
            "zerolinecolor": "white"
           }
          },
          "shapedefaults": {
           "line": {
            "color": "#2a3f5f"
           }
          },
          "ternary": {
           "aaxis": {
            "gridcolor": "white",
            "linecolor": "white",
            "ticks": ""
           },
           "baxis": {
            "gridcolor": "white",
            "linecolor": "white",
            "ticks": ""
           },
           "bgcolor": "#E5ECF6",
           "caxis": {
            "gridcolor": "white",
            "linecolor": "white",
            "ticks": ""
           }
          },
          "title": {
           "x": 0.05
          },
          "xaxis": {
           "automargin": true,
           "gridcolor": "white",
           "linecolor": "white",
           "ticks": "",
           "title": {
            "standoff": 15
           },
           "zerolinecolor": "white",
           "zerolinewidth": 2
          },
          "yaxis": {
           "automargin": true,
           "gridcolor": "white",
           "linecolor": "white",
           "ticks": "",
           "title": {
            "standoff": 15
           },
           "zerolinecolor": "white",
           "zerolinewidth": 2
          }
         }
        }
       }
      }
     },
     "metadata": {},
     "output_type": "display_data"
    }
   ],
   "source": [
    "!pip install -q plotly nbformat\n",
    "\n",
    "import plotly.express as px\n",
    "\n",
    "import pandas as pd\n",
    "my_dict = {\n",
    "    'Input': ['Text', 'Speech', 'Text', 'Tabular'],\n",
    "    'Method': ['ML', 'Statistics', 'Causal inference', 'ML'],\n",
    "    'Topic': ['Suicide', 'Psychology', 'Psychedelics', 'Meditation']\n",
    "}\n",
    "\n",
    "df = pd.DataFrame(my_dict)\n",
    "\n",
    "# Create the parallel categories diagram\n",
    "fig = px.parallel_categories(\n",
    "    df, \n",
    "    dimensions=df.columns.tolist(),  # Specify the columns to use as dimensions\n",
    "    # color=\"size\",  # Optional: Color the flows by a continuous variable\n",
    "    color_continuous_scale=px.colors.sequential.Inferno,  # Optional: Choose a color scale\n",
    ")\n",
    "\n",
    "fig.show()"
   ]
  },
  {
   "cell_type": "code",
   "execution_count": null,
   "metadata": {},
   "outputs": [],
   "source": []
  },
  {
   "cell_type": "code",
   "execution_count": 7,
   "metadata": {},
   "outputs": [
    {
     "data": {
      "image/png": "[encoded data removed]",
      "text/plain": [
       "<Figure size 640x480 with 1 Axes>"
      ]
     },
     "metadata": {},
     "output_type": "display_data"
    }
   ],
   "source": [
    "from matplotlib_venn import venn2, venn3\n",
    "import matplotlib.pyplot as plt\n",
    "\n",
    "def create_venn_diagram(data, sets_labels):\n",
    "    \"\"\"\n",
    "    Creates a Venn diagram based on instance membership.\n",
    "\n",
    "    Parameters:\n",
    "    - data (dict): A dictionary where keys are instances and values are lists of set labels the instance belongs to.\n",
    "    - sets_labels (list): A list of set labels to include in the diagram (max 3 for visualization).\n",
    "\n",
    "    Example:\n",
    "    data = {\n",
    "        'instance1': ['A', 'B'],\n",
    "        'instance2': ['A'],\n",
    "        'instance3': ['B', 'C'],\n",
    "        'instance4': ['C']\n",
    "    }\n",
    "    sets_labels = ['A', 'B', 'C']\n",
    "    \"\"\"\n",
    "    if len(sets_labels) < 2 or len(sets_labels) > 3:\n",
    "        raise ValueError(\"This function supports 2 or 3 sets for visualization.\")\n",
    "\n",
    "    # Initialize the sets\n",
    "    sets = {label: set() for label in sets_labels}\n",
    "\n",
    "    # Fill the sets with instances\n",
    "    for instance, memberships in data.items():\n",
    "        for membership in memberships:\n",
    "            if membership in sets:\n",
    "                sets[membership].add(instance)\n",
    "\n",
    "    # Create the appropriate Venn diagram\n",
    "    if len(sets_labels) == 2:\n",
    "        venn = venn2([sets[sets_labels[0]], sets[sets_labels[1]]], set_labels=sets_labels)\n",
    "    elif len(sets_labels) == 3:\n",
    "        venn = venn3([sets[sets_labels[0]], sets[sets_labels[1]], sets[sets_labels[2]]], set_labels=sets_labels)\n",
    "\n",
    "    plt.title(\"Venn Diagram\")\n",
    "    plt.show()\n",
    "\n",
    "# Example Usage\n",
    "data = {\n",
    "    '1': ['Speech', 'Mental health'],\n",
    "    # '2': ['Speech', 'Causal inference'],\n",
    "    '3': ['Speech'],\n",
    "    '4': ['NLP'],\n",
    "    '5': ['NLP', 'Mental health'],\n",
    "    # '6': ['NLP', 'Causal inference'],\n",
    "    '7': ['Mental health'],\n",
    "    # '9': ['Mental health', 'Causal inference'],\n",
    "    # '10': ['Causal inference'],\n",
    "    \n",
    "}\n",
    "sets_labels = ['Speech', 'NLP', 'Mental health']\n",
    "\n",
    "create_venn_diagram(data, sets_labels)"
   ]
  },
  {
   "cell_type": "code",
   "execution_count": 9,
   "metadata": {},
   "outputs": [
    {
     "name": "stdout",
     "output_type": "stream",
     "text": [
      "Collecting upsetplot\n",
      "  Downloading UpSetPlot-0.9.0.tar.gz (23 kB)\n",
      "  Installing build dependencies ... \u001b[?25ldone\n",
      "\u001b[?25h  Getting requirements to build wheel ... \u001b[?25ldone\n",
      "\u001b[?25h  Preparing metadata (pyproject.toml) ... \u001b[?25ldone\n",
      "\u001b[?25hRequirement already satisfied: pandas>=0.23 in /Users/danielmlow/miniconda3/envs/ct/lib/python3.10/site-packages (from upsetplot) (2.2.3)\n",
      "Requirement already satisfied: matplotlib>=2.0 in /Users/danielmlow/miniconda3/envs/ct/lib/python3.10/site-packages (from upsetplot) (3.9.4)\n",
      "Requirement already satisfied: contourpy>=1.0.1 in /Users/danielmlow/miniconda3/envs/ct/lib/python3.10/site-packages (from matplotlib>=2.0->upsetplot) (1.3.0)\n",
      "Requirement already satisfied: cycler>=0.10 in /Users/danielmlow/miniconda3/envs/ct/lib/python3.10/site-packages (from matplotlib>=2.0->upsetplot) (0.12.1)\n",
      "Requirement already satisfied: fonttools>=4.22.0 in /Users/danielmlow/miniconda3/envs/ct/lib/python3.10/site-packages (from matplotlib>=2.0->upsetplot) (4.55.3)\n",
      "Requirement already satisfied: kiwisolver>=1.3.1 in /Users/danielmlow/miniconda3/envs/ct/lib/python3.10/site-packages (from matplotlib>=2.0->upsetplot) (1.4.7)\n",
      "Requirement already satisfied: numpy>=1.23 in /Users/danielmlow/miniconda3/envs/ct/lib/python3.10/site-packages (from matplotlib>=2.0->upsetplot) (1.26.4)\n",
      "Requirement already satisfied: packaging>=20.0 in /Users/danielmlow/miniconda3/envs/ct/lib/python3.10/site-packages (from matplotlib>=2.0->upsetplot) (24.2)\n",
      "Requirement already satisfied: pillow>=8 in /Users/danielmlow/miniconda3/envs/ct/lib/python3.10/site-packages (from matplotlib>=2.0->upsetplot) (11.1.0)\n",
      "Requirement already satisfied: pyparsing>=2.3.1 in /Users/danielmlow/miniconda3/envs/ct/lib/python3.10/site-packages (from matplotlib>=2.0->upsetplot) (3.2.1)\n",
      "Requirement already satisfied: python-dateutil>=2.7 in /Users/danielmlow/miniconda3/envs/ct/lib/python3.10/site-packages (from matplotlib>=2.0->upsetplot) (2.9.0.post0)\n",
      "Requirement already satisfied: pytz>=2020.1 in /Users/danielmlow/miniconda3/envs/ct/lib/python3.10/site-packages (from pandas>=0.23->upsetplot) (2024.2)\n",
      "Requirement already satisfied: tzdata>=2022.7 in /Users/danielmlow/miniconda3/envs/ct/lib/python3.10/site-packages (from pandas>=0.23->upsetplot) (2024.2)\n",
      "Requirement already satisfied: six>=1.5 in /Users/danielmlow/miniconda3/envs/ct/lib/python3.10/site-packages (from python-dateutil>=2.7->matplotlib>=2.0->upsetplot) (1.17.0)\n",
      "Building wheels for collected packages: upsetplot\n",
      "  Building wheel for upsetplot (pyproject.toml) ... \u001b[?25ldone\n",
      "\u001b[?25h  Created wheel for upsetplot: filename=UpSetPlot-0.9.0-py3-none-any.whl size=24839 sha256=80f2254ad3e1451871f7ff83e52adbdfc00ce912037edf97fe014aa3a37f0cef\n",
      "  Stored in directory: /Users/danielmlow/Library/Caches/pip/wheels/73/42/9f/1c9718ea27f30466d2787e0f7d88a7cb11942e3460c17e0ef6\n",
      "Successfully built upsetplot\n",
      "Installing collected packages: upsetplot\n",
      "Successfully installed upsetplot-0.9.0\n"
     ]
    }
   ],
   "source": [
    "!pip install upsetplot\n"
   ]
  },
  {
   "cell_type": "code",
   "execution_count": 11,
   "metadata": {},
   "outputs": [
    {
     "name": "stderr",
     "output_type": "stream",
     "text": [
      "/Users/danielmlow/miniconda3/envs/ct/lib/python3.10/site-packages/upsetplot/plotting.py:795: FutureWarning: A value is trying to be set on a copy of a DataFrame or Series through chained assignment using an inplace method.\n",
      "The behavior will change in pandas 3.0. This inplace method will never work because the intermediate object on which we are setting values always behaves as a copy.\n",
      "\n",
      "For example, when doing 'df[col].method(value, inplace=True)', try using 'df.method({col: value}, inplace=True)' or df[col] = df[col].method(value) instead, to perform the operation inplace on the original object.\n",
      "\n",
      "\n",
      "  styles[\"linewidth\"].fillna(1, inplace=True)\n",
      "/Users/danielmlow/miniconda3/envs/ct/lib/python3.10/site-packages/upsetplot/plotting.py:796: FutureWarning: A value is trying to be set on a copy of a DataFrame or Series through chained assignment using an inplace method.\n",
      "The behavior will change in pandas 3.0. This inplace method will never work because the intermediate object on which we are setting values always behaves as a copy.\n",
      "\n",
      "For example, when doing 'df[col].method(value, inplace=True)', try using 'df.method({col: value}, inplace=True)' or df[col] = df[col].method(value) instead, to perform the operation inplace on the original object.\n",
      "\n",
      "\n",
      "  styles[\"facecolor\"].fillna(self._facecolor, inplace=True)\n",
      "/Users/danielmlow/miniconda3/envs/ct/lib/python3.10/site-packages/upsetplot/plotting.py:797: FutureWarning: A value is trying to be set on a copy of a DataFrame or Series through chained assignment using an inplace method.\n",
      "The behavior will change in pandas 3.0. This inplace method will never work because the intermediate object on which we are setting values always behaves as a copy.\n",
      "\n",
      "For example, when doing 'df[col].method(value, inplace=True)', try using 'df.method({col: value}, inplace=True)' or df[col] = df[col].method(value) instead, to perform the operation inplace on the original object.\n",
      "\n",
      "\n",
      "  styles[\"edgecolor\"].fillna(styles[\"facecolor\"], inplace=True)\n",
      "/Users/danielmlow/miniconda3/envs/ct/lib/python3.10/site-packages/upsetplot/plotting.py:798: FutureWarning: A value is trying to be set on a copy of a DataFrame or Series through chained assignment using an inplace method.\n",
      "The behavior will change in pandas 3.0. This inplace method will never work because the intermediate object on which we are setting values always behaves as a copy.\n",
      "\n",
      "For example, when doing 'df[col].method(value, inplace=True)', try using 'df.method({col: value}, inplace=True)' or df[col] = df[col].method(value) instead, to perform the operation inplace on the original object.\n",
      "\n",
      "\n",
      "  styles[\"linestyle\"].fillna(\"solid\", inplace=True)\n"
     ]
    },
    {
     "data": {
      "image/png": "[encoded data removed]",
      "text/plain": [
       "<Figure size 666.667x444.444 with 4 Axes>"
      ]
     },
     "metadata": {},
     "output_type": "display_data"
    }
   ],
   "source": [
    "from matplotlib_venn import venn2, venn3\n",
    "from upsetplot import UpSet\n",
    "import matplotlib.pyplot as plt\n",
    "import pandas as pd\n",
    "\n",
    "def create_venn_diagram(data, sets_labels):\n",
    "    \"\"\"\n",
    "    Creates a Venn diagram or UpSet plot based on instance membership.\n",
    "\n",
    "    Parameters:\n",
    "    - data (dict): A dictionary where keys are instances and values are lists of set labels the instance belongs to.\n",
    "    - sets_labels (list): A list of set labels to include in the diagram (max 4 for visualization).\n",
    "\n",
    "    Example:\n",
    "    data = {\n",
    "        'instance1': ['A', 'B'],\n",
    "        'instance2': ['A'],\n",
    "        'instance3': ['B', 'C'],\n",
    "        'instance4': ['C', 'D'],\n",
    "    }\n",
    "    sets_labels = ['A', 'B', 'C', 'D']\n",
    "    \"\"\"\n",
    "    if len(sets_labels) < 2:\n",
    "        raise ValueError(\"At least 2 sets are required for visualization.\")\n",
    "    \n",
    "    if len(sets_labels) <= 3:\n",
    "        # Initialize the sets\n",
    "        sets = {label: set() for label in sets_labels}\n",
    "        \n",
    "        # Fill the sets with instances\n",
    "        for instance, memberships in data.items():\n",
    "            for membership in memberships:\n",
    "                if membership in sets:\n",
    "                    sets[membership].add(instance)\n",
    "        \n",
    "        # Create the appropriate Venn diagram\n",
    "        if len(sets_labels) == 2:\n",
    "            venn = venn2([sets[sets_labels[0]], sets[sets_labels[1]]], set_labels=sets_labels)\n",
    "        elif len(sets_labels) == 3:\n",
    "            venn = venn3([sets[sets_labels[0]], sets[sets_labels[1]], sets[sets_labels[2]]], set_labels=sets_labels)\n",
    "        \n",
    "        plt.title(\"Venn Diagram\")\n",
    "        plt.show()\n",
    "    else:\n",
    "        # For 4 or more sets, use an UpSet plot\n",
    "        # Create a membership dataframe\n",
    "        membership = []\n",
    "        for instance, memberships in data.items():\n",
    "            membership.append([1 if label in memberships else 0 for label in sets_labels])\n",
    "        membership_df = pd.DataFrame(membership, columns=sets_labels, index=data.keys())\n",
    "        \n",
    "        # Create the UpSet plot\n",
    "        upset_data = membership_df.groupby(sets_labels).size()\n",
    "        UpSet(upset_data, subset_size='count').plot()\n",
    "        plt.title(\"UpSet Plot\")\n",
    "        plt.show()\n",
    "\n",
    "# Example Usage\n",
    "data = {\n",
    "    '1': ['Speech', 'Mental health'],\n",
    "    '2': ['Speech', 'Causal inference'],\n",
    "    '3': ['Speech'],\n",
    "    '4': ['NLP'],\n",
    "    '5': ['NLP', 'Mental health'],\n",
    "    '6': ['NLP', 'Causal inference'],\n",
    "    '7': ['Mental health'],\n",
    "    '9': ['Mental health', 'Causal inference'],\n",
    "    '10': ['Causal inference'],\n",
    "    \n",
    "}\n",
    "sets_labels = ['Speech', 'NLP', 'Mental health', 'Causal inference']\n",
    "\n",
    "create_venn_diagram(data, sets_labels)"
   ]
  },
  {
   "cell_type": "code",
   "execution_count": null,
   "metadata": {},
   "outputs": [],
   "source": []
  }
 ],
 "metadata": {
  "kernelspec": {
   "display_name": "ct",
   "language": "python",
   "name": "python3"
  },
  "language_info": {
   "codemirror_mode": {
    "name": "ipython",
    "version": 3
   },
   "file_extension": ".py",
   "mimetype": "text/x-python",
   "name": "python",
   "nbconvert_exporter": "python",
   "pygments_lexer": "ipython3",
   "version": "3.10.14"
  }
 },
 "nbformat": 4,
 "nbformat_minor": 2
}
