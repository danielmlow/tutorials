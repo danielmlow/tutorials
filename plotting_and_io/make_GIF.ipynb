{
  "nbformat": 4,
  "nbformat_minor": 0,
  "metadata": {
    "colab": {
      "name": "make_GIF.ipynb",
      "provenance": [],
      "authorship_tag": "ABX9TyPFCDSegFKsUbC47+i+bx7w",
      "include_colab_link": true
    },
    "kernelspec": {
      "name": "python3",
      "display_name": "Python 3"
    },
    "language_info": {
      "name": "python"
    }
  },
  "cells": [
    {
      "cell_type": "markdown",
      "metadata": {
        "id": "view-in-github",
        "colab_type": "text"
      },
      "source": [
        "<a href=\"https://colab.research.google.com/github/danielmlow/tutorials/blob/main/make_GIF.ipynb\" target=\"_parent\"><img src=\"https://colab.research.google.com/assets/colab-badge.svg\" alt=\"Open In Colab\"/></a>"
      ]
    },
    {
      "cell_type": "code",
      "execution_count": null,
      "metadata": {
        "id": "D6x91DKj-VhR"
      },
      "outputs": [],
      "source": [
        "import glob\n",
        "from PIL import Image\n",
        "\n",
        "# filepaths\n",
        "fp_in = output_dir+\"mental_map/participant_215_*.png\"\n",
        "fp_out = output_dir+\"mental_map/participant_215.gif\"\n",
        "\n",
        "# https://pillow.readthedocs.io/en/stable/handbook/image-file-formats.html#gif\n",
        "imgs = (Image.open(f) for f in sorted(glob.glob(fp_in)))\n",
        "img = next(imgs)  # extract first image from iterator\n",
        "# img = Image.open(glob.glob(fp_in[0]))\n",
        "img.save(fp=fp_out, format='GIF', append_images=imgs,\n",
        "         save_all=True, duration=1000, loop=0)"
      ]
    }
  ]
}