{
  "nbformat": 4,
  "nbformat_minor": 0,
  "metadata": {
    "colab": {
      "provenance": [],
      "authorship_tag": "ABX9TyP6ueexuVhtXHkMwH4PViRi",
      "include_colab_link": true
    },
    "kernelspec": {
      "name": "python3",
      "display_name": "Python 3"
    },
    "language_info": {
      "name": "python"
    }
  },
  "cells": [
    {
      "cell_type": "markdown",
      "metadata": {
        "id": "view-in-github",
        "colab_type": "text"
      },
      "source": [
        "<a href=\"https://colab.research.google.com/github/danielmlow/tutorials/blob/main/plotting_and_io/python_to_r_df.ipynb\" target=\"_parent\"><img src=\"https://colab.research.google.com/assets/colab-badge.svg\" alt=\"Open In Colab\"/></a>"
      ]
    },
    {
      "cell_type": "code",
      "execution_count": null,
      "metadata": {
        "id": "OtX8s6RcryUk"
      },
      "outputs": [],
      "source": [
        "# Import pandas\n",
        "import pandas as pd\n",
        "# Import rpy2 for dataframe conversion\n",
        "import rpy2.robjects as ro\n",
        "from rpy2.robjects.packages import importr\n",
        "from rpy2.robjects import pandas2ri\n",
        "from rpy2.robjects.conversion import localconverter\n",
        "from rpy2.robjects import globalenv\n",
        "\n",
        "def python_to_r(df, df_name):\n",
        "  # Convert the python dataframe to the R dataframe\n",
        "  with localconverter(ro.default_converter + pandas2ri.converter):\n",
        "    dfr = ro.conversion.py2rpy(df)\n",
        "  # Create a variable name in R's global environment\n",
        "  globalenv['df_name'] = dfr\n",
        "  return\n",
        "\n",
        "def r_to_python(df):\n",
        "  # Convert R Dataframe to python dataframe\n",
        "  with localconverter(ro.default_converter + pandas2ri.converter):\n",
        "    dfpd = ro.conversion.rpy2py(df)\n",
        "  return"
      ]
    }
  ]
}