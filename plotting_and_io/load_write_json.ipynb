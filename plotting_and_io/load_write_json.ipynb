{
  "nbformat": 4,
  "nbformat_minor": 0,
  "metadata": {
    "colab": {
      "name": "load_write_json.ipynb",
      "provenance": [],
      "authorship_tag": "ABX9TyNx1piVmxKsQ4o1leDfrHPF",
      "include_colab_link": true
    },
    "kernelspec": {
      "name": "python3",
      "display_name": "Python 3"
    },
    "language_info": {
      "name": "python"
    }
  },
  "cells": [
    {
      "cell_type": "markdown",
      "metadata": {
        "id": "view-in-github",
        "colab_type": "text"
      },
      "source": [
        "<a href=\"https://colab.research.google.com/github/danielmlow/tutorials/blob/main/load_write_json.ipynb\" target=\"_parent\"><img src=\"https://colab.research.google.com/assets/colab-badge.svg\" alt=\"Open In Colab\"/></a>"
      ]
    },
    {
      "cell_type": "code",
      "execution_count": null,
      "metadata": {
        "colab": {
          "base_uri": "https://localhost:8080/"
        },
        "id": "Noz46U9RJ953",
        "outputId": "80ac91a4-c573-407d-f683-07f12e7bab99"
      },
      "outputs": [
        {
          "output_type": "execute_result",
          "data": {
            "text/plain": [
              "{}"
            ]
          },
          "metadata": {},
          "execution_count": 1
        }
      ],
      "source": [
        "import json\n",
        "import datetime\n",
        "\n",
        "input_dir = './'\n",
        "output_dir = './'\n",
        "\n",
        "filename = 'name'\n",
        "\n",
        "data = {}\n",
        "\n",
        "# Save\n",
        "ts = datetime.datetime.utcnow().strftime('%y-%m-%dT%H-%M-%S') # so you don't overwrite, and save timestamp\n",
        "with open(output_dir+f'{filename}_{ts}.json', \"w\") as fp:\n",
        "    json.dump(data, fp, indent=4) \n",
        "\n",
        "# Load    \n",
        "with open(input_dir+f'{filename}_{ts}.json', 'r') as json_file:\n",
        "  data = json.load(json_file)\n",
        "\n",
        "data"
      ]
    },
    {
      "cell_type": "code",
      "source": [
        ""
      ],
      "metadata": {
        "id": "CSAoDpZOKAYu"
      },
      "execution_count": null,
      "outputs": []
    }
  ]
}