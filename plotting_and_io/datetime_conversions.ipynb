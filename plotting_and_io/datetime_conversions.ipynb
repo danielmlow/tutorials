{
  "nbformat": 4,
  "nbformat_minor": 0,
  "metadata": {
    "colab": {
      "provenance": [],
      "collapsed_sections": [],
      "authorship_tag": "ABX9TyPVssdZbaLuaYyL0HLEcHdX",
      "include_colab_link": true
    },
    "kernelspec": {
      "name": "python3",
      "display_name": "Python 3"
    },
    "language_info": {
      "name": "python"
    }
  },
  "cells": [
    {
      "cell_type": "markdown",
      "metadata": {
        "id": "view-in-github",
        "colab_type": "text"
      },
      "source": [
        "<a href=\"https://colab.research.google.com/github/danielmlow/tutorials/blob/main/plotting_and_io/datetime_conversions.ipynb\" target=\"_parent\"><img src=\"https://colab.research.google.com/assets/colab-badge.svg\" alt=\"Open In Colab\"/></a>"
      ]
    },
    {
      "cell_type": "code",
      "execution_count": null,
      "metadata": {
        "id": "1PcvpWCe6JEe"
      },
      "outputs": [],
      "source": [
        "import datetime\n",
        "import pytz\n",
        "\n",
        "def utc0_to_timezone(datetime_value, timezone = 'America/New_York',output_format = \"%Y-%m-%d %H:%M:%S\"):\n",
        "    if pd.isnull(np.datetime64('NaT')):\n",
        "      print(\"Warning: null datetime. returning np.datetime64('NaT'), np.nan\")\n",
        "      return np.datetime64('NaT'), np.nan\n",
        "    datetime_value = pd.Timestamp(datetime_value)\n",
        "    datetime_value = datetime_value.replace(tzinfo=pytz.utc)\n",
        "    datetime_value = datetime_value.astimezone(pytz.timezone(timezone ))\n",
        "    datetime_str = datetime_value.strftime(output_format)\n",
        "    return datetime_value, datetime_str\n",
        "\n",
        "\n",
        "\n",
        "\n",
        "def str_time_to_datetime(str_time='2020-12-22 14:02:01'):\n",
        "    # convert str timstamp into datetime() timestamp\n",
        "    if str(str_time)=='nan':\n",
        "        return np.nan\n",
        "    date = str_time.split(' ')[0].split('-')\n",
        "    time = str_time.split(' ')[1].split(':')\n",
        "    t = [int(n) for n in np.concatenate([date, time])]\n",
        "    str_time = datetime.datetime(t[0], t[1], t[2], t[3], t[4], t[5])\n",
        "    return str_time"
      ]
    }
  ]
}