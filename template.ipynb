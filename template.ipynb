{
  "cells": [
    {
      "cell_type": "markdown",
      "metadata": {
        "colab_type": "text",
        "id": "view-in-github"
      },
      "source": [
        "<a href=\"https://colab.research.google.com/github/danielmlow/tutorials/blob/main/template.ipynb\" target=\"_parent\"><img src=\"https://colab.research.google.com/assets/colab-badge.svg\" alt=\"Open In Colab\"/></a>"
      ]
    },
    {
      "cell_type": "code",
      "execution_count": null,
      "metadata": {
        "id": "kwEocJh-hc3N"
      },
      "outputs": [],
      "source": [
        "!pip install torch==0.2.0"
      ]
    },
    {
      "cell_type": "code",
      "execution_count": null,
      "metadata": {
        "id": "F4TVg-fS5nuu"
      },
      "outputs": [],
      "source": [
        "'''\n",
        "Authors: Daniel M. Low\n",
        "License: See license in github repository\n",
        "'''"
      ]
    },
    {
      "cell_type": "code",
      "execution_count": null,
      "metadata": {
        "id": "HNXDogvTkQfL"
      },
      "outputs": [],
      "source": [
        "import os\n",
        "import pandas as pd\n",
        "import numpy as np\n",
        "import seaborn as sns\n",
        "import matplotlib.pyplot as plt\n",
        "import datetime\n",
        "\n",
        "ts = datetime.datetime.utcnow().strftime('%y-%m-%dT%H-%M-%S')\n",
        "\n",
        "pd.set_option(\"display.max_columns\", None)\n",
        "# pd.options.display.width = 0\n",
        "\n",
        "\n",
        "os.chdir(os.path.dirname(__file__)) # Set working directory to current file\n",
        "\n",
        "\n",
        "server = False # Options: \"google\", \"local\", other  # google: Running on colab and looking for files on on google drive; local: run on your local computer and find files locally\n",
        "\n",
        "\n",
        "if server == 'google':\n",
        "    # ON GOOGLE DRIVE\n",
        "    from google.colab import drive\n",
        "    project_name = 'project_name'\n",
        "    drive.mount('/content/drive')\n",
        "    input_dir = f'/content/drive/MyDrive/datum/{project_name}/data/input/' # Or find using os.listdir('/content/')\n",
        "    output_dir = f'/content/drive/MyDrive/datum/{project_name}/data/output/'  \n",
        "elif server == 'local':\n",
        "    # ON YOUR COMPUTER\n",
        "    input_dir = './' # add path to input_dir\n",
        "    output_dir = './'\n",
        "else:\n",
        "    # Load default data\n",
        "    reddit_df = pd.read_csv('https://mair.sites.fas.harvard.edu/datasets/rmhd_27subreddits_1300posts_train.csv', index_col = 0)\n",
        "    reddit_df_subset = reddit_df[reddit_df['subreddit'].isin(['suicidewatch', 'anxiety'])]\n",
        "    reddit_df_subset_random = reddit_df_subset.sample(frac=1, random_state=42)\n",
        "    reddit_df_subset_random_5 =  reddit_df_subset_random[['subreddit', 'post']][:5]\n",
        "    # Add an incrementing number to the beginning of the key and create a dictionary\n",
        "    texts = {\n",
        "        f\"{i+1}_{row.subreddit}\": row.post \n",
        "        for i, row in enumerate(reddit_df_subset_random_5.itertuples(index=False))\n",
        "    }\n",
        "    \n",
        "    output_dir = './data/output/'\n",
        "\n",
        "# Create input and output directories if they dont already exist\n",
        "os.makedirs(input_dir, exist_ok=True)\n",
        "os.makedirs(output_dir, exist_ok=True)\n",
        "\n",
        "if server in ['google', 'local']:\n",
        "    # load txt files. Loop through text \n",
        "    print('current working directory: ', os.getcwd()) \n",
        "    texts = {}\n",
        "\n",
        "    for file in os.listdir(input_dir):\n",
        "        if file.endswith('.txt'):\n",
        "            with open(os.path.join(input_dir, file), 'r') as f:\n",
        "                text = f.read()\n",
        "                texts[file] = text"
      ]
    },
    {
      "cell_type": "code",
      "execution_count": null,
      "metadata": {},
      "outputs": [],
      "source": [
        "df = pd.read_csv(input_dir + 'filename2.csv', index_col = 0)\n",
        "df"
      ]
    }
  ],
  "metadata": {
    "colab": {
      "authorship_tag": "ABX9TyMCVPXTuMtgt8SWfR+ss+tQ",
      "include_colab_link": true,
      "name": "template.ipynb",
      "provenance": []
    },
    "kernelspec": {
      "display_name": "Python 3",
      "name": "python3"
    },
    "language_info": {
      "name": "python"
    }
  },
  "nbformat": 4,
  "nbformat_minor": 0
}
