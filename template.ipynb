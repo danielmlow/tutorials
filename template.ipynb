{
  "nbformat": 4,
  "nbformat_minor": 0,
  "metadata": {
    "colab": {
      "name": "template.ipynb",
      "provenance": [],
      "collapsed_sections": [],
      "authorship_tag": "ABX9TyNeQ3l0Afanah2UnwpyoqXt",
      "include_colab_link": true
    },
    "kernelspec": {
      "name": "python3",
      "display_name": "Python 3"
    },
    "language_info": {
      "name": "python"
    }
  },
  "cells": [
    {
      "cell_type": "markdown",
      "metadata": {
        "id": "view-in-github",
        "colab_type": "text"
      },
      "source": [
        "<a href=\"https://colab.research.google.com/github/danielmlow/tutorials/blob/main/template.ipynb\" target=\"_parent\"><img src=\"https://colab.research.google.com/assets/colab-badge.svg\" alt=\"Open In Colab\"/></a>"
      ]
    },
    {
      "cell_type": "code",
      "source": [
        "'''\n",
        "Authors: Daniel M. Low\n",
        "License: See license in github repository\n",
        "'''\n",
        "\n",
        "import os\n",
        "import pandas as pd\n",
        "import numpy as np\n",
        "import seaborn as sns\n",
        "import matplotlib.pyplot as plt\n",
        "from datetime import datetime\n",
        "\n",
        "# pd.options.display.width = 0\n",
        "pd.set_option(\"display.max_columns\", None)"
      ],
      "metadata": {
        "id": "HNXDogvTkQfL"
      },
      "execution_count": null,
      "outputs": []
    },
    {
      "cell_type": "code",
      "source": [
        "project_name = 'project_name'\n",
        "filename = '.csv'\n",
        "on_colab = True\n",
        "\n",
        "\n",
        "if on_colab:\n",
        "  from google.colab import drive\n",
        "  drive.mount('/content/drive')\n",
        "  input_dir = f'/content/drive/MyDrive/datum/{project_name}/data/input/'\n",
        "  output_dir = f'/content/drive/MyDrive/datum/{project_name}/data/output/'\n",
        "else:\n",
        "  input_dir = './data/input/'\n",
        "  output_dir = './data/output/'"
      ],
      "metadata": {
        "id": "hu8L3IkvlOXM"
      },
      "execution_count": null,
      "outputs": []
    },
    {
      "cell_type": "code",
      "source": [
        "df = pd.read(input_dir + filename, index_col = 0)\n",
        "df"
      ],
      "metadata": {
        "id": "p9Ex1WqVlEh5"
      },
      "execution_count": null,
      "outputs": []
    }
  ]
}