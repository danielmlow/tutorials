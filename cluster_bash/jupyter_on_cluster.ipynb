{
  "nbformat": 4,
  "nbformat_minor": 0,
  "metadata": {
    "colab": {
      "provenance": [],
      "authorship_tag": "ABX9TyPS9ou4XsLgvAmZepUT0r4N",
      "include_colab_link": true
    },
    "kernelspec": {
      "name": "python3",
      "display_name": "Python 3"
    },
    "language_info": {
      "name": "python"
    }
  },
  "cells": [
    {
      "cell_type": "markdown",
      "metadata": {
        "id": "view-in-github",
        "colab_type": "text"
      },
      "source": [
        "<a href=\"https://colab.research.google.com/github/danielmlow/tutorials/blob/main/cluster_bash/jupyter_on_cluster.ipynb\" target=\"_parent\"><img src=\"https://colab.research.google.com/assets/colab-badge.svg\" alt=\"Open In Colab\"/></a>"
      ]
    },
    {
      "cell_type": "markdown",
      "source": [
        "# Use jupyter in interactive mode on cluster with GPU\n",
        "\n",
        "1. Connect to cluster\n",
        "2. Ask for a GPU\n",
        "\n",
        "  `srun -N1 -c1 -t 3:00:00 --gres=gpu:1 --constraint=any-gpu --mem=12G --pty bash`\n",
        "\n",
        "  Or ask for a specific GPU:\n",
        "\n",
        "  `srun -N1 -c1 -t 2:00:00 --gres=gpu:QUADRORTX6000:1 --mem=12G --pty bash`\n",
        "\n",
        "  Or run a CPU:\n",
        "\n",
        "  `srun --pty --nodes=1 --cpus-per-task=10 --time=36:00:00 --mem=10G bash`\n",
        "\n",
        "3. conda activate `your_virtual_environment_name`\n",
        "\n",
        "\n",
        "4. Run jupyter\n",
        "\n",
        "  `jupyter notebook --ip=0.0.0.0 --port=9000 --no-browser`\n",
        "\n",
        "\n",
        "  This will return a URL which you can open in a browser (e.g., Chrome)\n",
        "\n",
        "    ```\n",
        "    Or copy and paste one of these URLs:\n",
        "    http://openmind7:9001/?token=<token>\n",
        "    ```\n",
        "\n",
        "  Or try this. A URL which contains a node number and and a token:\n",
        "\n",
        "  `http://node<node>:9000/lab?token=<token>`\n",
        "\n",
        "5. Open new terminal and run this command using the node number.\n",
        "\n",
        "\n",
        "  `ssh -L <host_number>:node<node>:9000 <username>@openmind.mit.edu`\n",
        "\n",
        "  You can add a host number like 1333\n",
        "\n",
        "\n",
        "6. Open a browser (e.g., Chrome) and type `http://localhost:<host_number>/`\n",
        "\n",
        "7. Jupyter will open and ask you for the token.\n"
      ],
      "metadata": {
        "id": "_0pDKKEYi7Co"
      }
    },
    {
      "cell_type": "code",
      "source": [],
      "metadata": {
        "id": "seLBZruLE79V"
      },
      "execution_count": null,
      "outputs": []
    }
  ]
}