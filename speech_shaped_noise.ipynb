{
 "cells": [
  {
   "cell_type": "code",
   "execution_count": null,
   "metadata": {},
   "outputs": [],
   "source": [
    "Do what Satra said and compare to this:\n",
    "\n",
    "https://github.com/timmahrt/pyAcoustics/blob/main/pyacoustics/speech_filters/speech_shaped_noise.py\n",
    "\n"
   ]
  }
 ],
 "metadata": {
  "language_info": {
   "name": "python"
  },
  "orig_nbformat": 4
 },
 "nbformat": 4,
 "nbformat_minor": 2
}
