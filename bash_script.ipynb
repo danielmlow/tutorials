{
  "nbformat": 4,
  "nbformat_minor": 0,
  "metadata": {
    "colab": {
      "provenance": [],
      "authorship_tag": "ABX9TyNV5BUPlyrMJ9u4wNr8m+xm",
      "include_colab_link": true
    },
    "kernelspec": {
      "name": "python3",
      "display_name": "Python 3"
    },
    "language_info": {
      "name": "python"
    }
  },
  "cells": [
    {
      "cell_type": "markdown",
      "metadata": {
        "id": "view-in-github",
        "colab_type": "text"
      },
      "source": [
        "<a href=\"https://colab.research.google.com/github/danielmlow/tutorials/blob/main/bash_script.ipynb\" target=\"_parent\"><img src=\"https://colab.research.google.com/assets/colab-badge.svg\" alt=\"Open In Colab\"/></a>"
      ]
    },
    {
      "cell_type": "markdown",
      "source": [
        "\n",
        "```\n",
        "#!/bin/bash ###!/usr/bin/env bash\n",
        "#SBATCH --job-name=<task_model_project>\n",
        "#SBATCH --output=/om2/user/dlow/job_logs/job_%j.out\n",
        "#SBATCH -o ./slurm/slurm-%A.out\n",
        "#SBATCH --error=/om2/user/dlow/job_logs/job_%j.err\n",
        "#SBATCH --mem=40Gb\n",
        "#SBATCH --gres=gpu:1\n",
        "#SBATCH --cpus-per-task=20\n",
        "#SBATCH --time=12:00:00\n",
        "#SBATCH --partition=gablab\n",
        "#SBATCH --mail-user=dlow@mit.edu\n",
        "#SBATCH --mail-type=ALL\n",
        "\n",
        "module add openmind/miniconda/3.9.1 \n",
        "\n",
        "source activate /om2/user/dlow/miniconda3/envs/<virtenv>\n",
        "\n",
        "srun python <task_model_project>.py\n",
        "\n",
        "echo 'Finished.'\n",
        "```"
      ],
      "metadata": {
        "id": "Xj5rLpxig_Bg"
      }
    }
  ]
}