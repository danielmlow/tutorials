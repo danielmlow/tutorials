{
  "nbformat": 4,
  "nbformat_minor": 0,
  "metadata": {
    "colab": {
      "name": "merge_list_of_dfs.ipynb",
      "provenance": [],
      "collapsed_sections": [],
      "authorship_tag": "ABX9TyN4B5JDMmP1p8x1z6w/Gr5V",
      "include_colab_link": true
    },
    "kernelspec": {
      "name": "python3",
      "display_name": "Python 3"
    },
    "language_info": {
      "name": "python"
    }
  },
  "cells": [
    {
      "cell_type": "markdown",
      "metadata": {
        "id": "view-in-github",
        "colab_type": "text"
      },
      "source": [
        "<a href=\"https://colab.research.google.com/github/danielmlow/tutorials/blob/main/merge_list_of_dfs.ipynb\" target=\"_parent\"><img src=\"https://colab.research.google.com/assets/colab-badge.svg\" alt=\"Open In Colab\"/></a>"
      ]
    },
    {
      "cell_type": "code",
      "execution_count": null,
      "metadata": {
        "id": "f7gln13M2tlF"
      },
      "outputs": [],
      "source": [
        "import pandas as pd\n",
        "\n",
        "def merge_list_dfs(list_of_dfs):\n",
        "    df = list_of_dfs[0]\n",
        "    for df_i in list_of_dfs[1:]:\n",
        "        cols_a = set(df.columns)\n",
        "        cols_b = set(df_i.columns)\n",
        "        intersection_a_b = list(cols_a.intersection(cols_b))\n",
        "        df = df.merge(df_i, on=intersection_a_b, how='outer')\n",
        "    return df \n"
      ]
    }
  ]
}