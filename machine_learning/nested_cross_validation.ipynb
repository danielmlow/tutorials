{
  "nbformat": 4,
  "nbformat_minor": 0,
  "metadata": {
    "colab": {
      "provenance": [],
      "authorship_tag": "ABX9TyPUj9+Ks+RhybC5kD4CAR4w",
      "include_colab_link": true
    },
    "kernelspec": {
      "name": "python3",
      "display_name": "Python 3"
    },
    "language_info": {
      "name": "python"
    }
  },
  "cells": [
    {
      "cell_type": "markdown",
      "metadata": {
        "id": "view-in-github",
        "colab_type": "text"
      },
      "source": [
        "<a href=\"https://colab.research.google.com/github/danielmlow/tutorials/blob/main/machine_learning/nested_cross_validation.ipynb\" target=\"_parent\"><img src=\"https://colab.research.google.com/assets/colab-badge.svg\" alt=\"Open In Colab\"/></a>"
      ]
    },
    {
      "cell_type": "markdown",
      "source": [
        "Author: Satvik Dixit\n",
        "\n",
        "# Nested gridsearch cross-validation with group-shuffle split\n",
        "\n",
        "Todo: use optuna\n",
        "\n"
      ],
      "metadata": {
        "id": "FXJjqpl7L_40"
      }
    },
    {
      "cell_type": "code",
      "execution_count": null,
      "metadata": {
        "id": "VFzUHPqMLzWF"
      },
      "outputs": [],
      "source": [
        "\n",
        "\n",
        "\n",
        "def classification_pipeline(embeddings, speakers, labels_list, feature_names):\n",
        "    np.random.seed(42)\n",
        "    X = embeddings\n",
        "    y = labels_list\n",
        "    groups = speakers\n",
        "    # Define the hyperparameter grid for GridSearchCV\n",
        "    param_grid = {'C': [0.1, 1, 10], 'l1_ratio': [0, 0.5, 1]}\n",
        "    # Outer cross-validation loop\n",
        "    outer_cv = GroupShuffleSplit(n_splits=2, train_size=0.7, random_state=42)\n",
        "    outer_scores = []\n",
        "    feats_array = []\n",
        "    for train_index, test_index in outer_cv.split(X, y, groups):\n",
        "        X_train, X_test = X[train_index], X[test_index]\n",
        "        y_train, y_test = [y[i] for i in train_index], [y[i] for i in test_index]\n",
        "        # Inner cross-validation loop for hyperparameter tuning\n",
        "        inner_cv = GroupShuffleSplit(n_splits=3, train_size=0.7, random_state=42)\n",
        "        grid_search = GridSearchCV(LogisticRegression(solver='saga', penalty = 'elasticnet'), param_grid, cv=inner_cv)\n",
        "        grid_search.fit(X_train, y_train, groups=[groups[i] for i in train_index])\n",
        "        # Get the best hyperparameters found in the inner loop\n",
        "        best_params = grid_search.best_params_\n",
        "        # Fit the model with the best hyperparameters on the training data\n",
        "        model = LogisticRegression(solver='saga', penalty = 'elasticnet', **best_params)\n",
        "        # Standardize X_train and transform X_test\n",
        "        scaler = StandardScaler()\n",
        "        X_train = scaler.fit_transform(X_train)\n",
        "        X_test = scaler.transform(X_test)\n",
        "        model.fit(X_train, y_train)\n",
        "        # Evaluate the model on the test data\n",
        "        y_pred = model.predict(X_test)\n",
        "        score = f1_score(y_test, y_pred, average='weighted')\n",
        "        outer_scores.append(score)\n",
        "    # Compute and print the mean F1 score across all outer folds\n",
        "    mean_f1 = np.mean(outer_scores)\n",
        "    return model, mean_f1"
      ]
    }
  ]
}