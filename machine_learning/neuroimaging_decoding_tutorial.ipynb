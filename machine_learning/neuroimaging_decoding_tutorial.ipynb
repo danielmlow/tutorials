{
  "cells": [
    {
      "cell_type": "markdown",
      "metadata": {
        "id": "view-in-github",
        "colab_type": "text"
      },
      "source": [
        "<a href=\"https://colab.research.google.com/github/danielmlow/tutorials/blob/main/machine_learning/neuroimaging_decoding_tutorial.ipynb\" target=\"_parent\"><img src=\"https://colab.research.google.com/assets/colab-badge.svg\" alt=\"Open In Colab\"/></a>"
      ]
    },
    {
      "cell_type": "markdown",
      "metadata": {
        "id": "7B9kyrMBxFOq"
      },
      "source": [
        "\n",
        "# A introduction tutorial to fMRI decoding\n",
        "\n",
        "Here is a simple tutorial on decoding with nilearn. It reproduces the\n",
        "Haxby 2001 study on a face vs cat discrimination task in a mask of the\n",
        "ventral stream.\n",
        "\n",
        "    * J.V. Haxby et al. \"Distributed and Overlapping Representations of Faces\n",
        "      and Objects in Ventral Temporal Cortex\", Science vol 293 (2001), p\n",
        "      2425.-2430.\n",
        "\n",
        "This tutorial is meant as an introduction to the various steps of a decoding\n",
        "analysis using Nilearn meta-estimator: :class:`nilearn.decoding.Decoder`\n",
        "\n",
        "It is not a minimalistic example, as it strives to be didactic. It is not\n",
        "meant to be copied to analyze new data: many of the steps are unnecessary.\n"
      ]
    },
    {
      "cell_type": "markdown",
      "metadata": {
        "id": "b8-mBIHVxFOt"
      },
      "source": [
        "## Retrieve and load the fMRI data from the Haxby study\n",
        "\n",
        "### First download the data\n",
        "\n",
        "The :func:`nilearn.datasets.fetch_haxby` function will download the\n",
        "Haxby dataset if not present on the disk, in the nilearn data directory.\n",
        "It can take a while to download about 310 Mo of data from the Internet.\n",
        "\n"
      ]
    },
    {
      "cell_type": "code",
      "execution_count": null,
      "metadata": {
        "id": "MGy-lswwxFOt"
      },
      "outputs": [],
      "source": [
        "from nilearn import datasets\n",
        "\n",
        "# By default 2nd subject will be fetched\n",
        "haxby_dataset = datasets.fetch_haxby()\n",
        "# 'func' is a list of filenames: one for each subject\n",
        "fmri_filename = haxby_dataset.func[0]\n",
        "\n",
        "# print basic information on the dataset\n",
        "print(f\"First subject functional nifti images (4D) are at: {fmri_filename}\")"
      ]
    },
    {
      "cell_type": "markdown",
      "metadata": {
        "id": "FhQm78COxFOu"
      },
      "source": [
        "### Visualizing the fmri volume\n",
        "\n",
        "One way to visualize a :term:`fmri<fMRI>` volume is\n",
        "using :func:`nilearn.plotting.plot_epi`.\n",
        "We will visualize the previously fetched :term:`fmri<fMRI>`\n",
        "data from Haxby dataset.\n",
        "\n",
        "Because :term:`fmri<fMRI>` data are 4D (they consist of many 3D EPI images),\n",
        "we cannot plot them directly using :func:`nilearn.plotting.plot_epi`\n",
        "(which accepts just 3D input).\n",
        "Here we are using :func:`nilearn.image.mean_img` to\n",
        "extract a single 3D EPI image from the :term:`fmri<fMRI>` data.\n",
        "\n",
        "\n"
      ]
    },
    {
      "cell_type": "code",
      "execution_count": null,
      "metadata": {
        "id": "RX-6A-M6xFOu"
      },
      "outputs": [],
      "source": [
        "from nilearn import plotting\n",
        "from nilearn.image import mean_img\n",
        "\n",
        "plotting.view_img(mean_img(fmri_filename), threshold=None)"
      ]
    },
    {
      "cell_type": "markdown",
      "metadata": {
        "id": "PJNlph9RxFOu"
      },
      "source": [
        "### Feature extraction: from fMRI volumes to a data matrix\n",
        "\n",
        "These are some really lovely images, but for machine learning\n",
        "we need matrices to work with the actual data. Fortunately, the\n",
        ":class:`nilearn.decoding.Decoder` object we will use later on can\n",
        "automatically transform Nifti images into matrices.\n",
        "All we have to do for now is define a mask filename.\n",
        "\n",
        "A mask of the Ventral Temporal (VT) cortex coming from the\n",
        "Haxby study is available:\n",
        "\n"
      ]
    },
    {
      "cell_type": "code",
      "execution_count": null,
      "metadata": {
        "id": "bi5O4umrxFOu"
      },
      "outputs": [],
      "source": [
        "mask_filename = haxby_dataset.mask_vt[0]\n",
        "\n",
        "# Let's visualize it, using the subject's anatomical image as a\n",
        "# background\n",
        "plotting.plot_roi(mask_filename, bg_img=haxby_dataset.anat[0], cmap=\"Paired\")"
      ]
    },
    {
      "cell_type": "markdown",
      "metadata": {
        "id": "UlVWgmyAxFOu"
      },
      "source": [
        "### Load the behavioral labels\n",
        "\n",
        "Now that the brain images are converted to a data matrix, we can apply\n",
        "machine-learning to them, for instance to predict the task that the subject\n",
        "was doing. The behavioral labels are stored in a CSV file, separated by\n",
        "spaces.\n",
        "\n",
        "We use pandas to load them in an array.\n",
        "\n"
      ]
    },
    {
      "cell_type": "code",
      "execution_count": null,
      "metadata": {
        "id": "3UbBgus5xFOv"
      },
      "outputs": [],
      "source": [
        "import pandas as pd\n",
        "\n",
        "# Load behavioral information\n",
        "behavioral = pd.read_csv(haxby_dataset.session_target[0], delimiter=\" \")\n",
        "print(behavioral)"
      ]
    },
    {
      "cell_type": "markdown",
      "metadata": {
        "id": "J7G5RDDXxFOv"
      },
      "source": [
        "The task was a visual-recognition task, and the labels denote the\n",
        "experimental condition: the type of object that was presented to the\n",
        "subject. This is what we are going to try to predict.\n",
        "\n"
      ]
    },
    {
      "cell_type": "code",
      "execution_count": null,
      "metadata": {
        "id": "XSxouZyTxFOv"
      },
      "outputs": [],
      "source": [
        "conditions = behavioral[\"labels\"]\n",
        "print(conditions)"
      ]
    },
    {
      "cell_type": "markdown",
      "metadata": {
        "id": "m6PWfe95xFOv"
      },
      "source": [
        "### Restrict the analysis to cats and faces\n",
        "\n",
        "As we can see from the targets above, the experiment contains many\n",
        "conditions. As a consequence, the data is quite big. Not all of this data\n",
        "has an interest to us for decoding,\n",
        "so we will keep only :term:`fmri<fMRI>` signals\n",
        "corresponding to faces or cats.\n",
        "We create a mask of the samples belonging to\n",
        "the condition; this mask is then applied\n",
        "to the :term:`fmri<fMRI>` data to restrict the\n",
        "classification to the face vs cat discrimination.\n",
        "\n",
        "The input data will become much smaller\n",
        "(i.e. :term:`fmri<fMRI>` signal is shorter):\n",
        "\n"
      ]
    },
    {
      "cell_type": "code",
      "execution_count": null,
      "metadata": {
        "id": "ab-FxP5kxFOv"
      },
      "outputs": [],
      "source": [
        "condition_mask = conditions.isin([\"face\", \"cat\"])"
      ]
    },
    {
      "cell_type": "markdown",
      "metadata": {
        "id": "EvLppll-xFOv"
      },
      "source": [
        "Because the data is in one single large 4D image, we need to use\n",
        "index_img to do the split easily.\n",
        "\n"
      ]
    },
    {
      "cell_type": "code",
      "execution_count": null,
      "metadata": {
        "id": "XK4LnR3BxFOw"
      },
      "outputs": [],
      "source": [
        "from nilearn.image import index_img\n",
        "\n",
        "fmri_niimgs = index_img(fmri_filename, condition_mask)"
      ]
    },
    {
      "cell_type": "markdown",
      "metadata": {
        "id": "Dd8ZdyzzxFOw"
      },
      "source": [
        "We apply the same mask to the targets\n",
        "\n"
      ]
    },
    {
      "cell_type": "code",
      "execution_count": null,
      "metadata": {
        "id": "JL28TCt4xFOw"
      },
      "outputs": [],
      "source": [
        "conditions = conditions[condition_mask]\n",
        "# Convert to numpy array\n",
        "conditions = conditions.values\n",
        "print(conditions.shape)"
      ]
    },
    {
      "cell_type": "markdown",
      "metadata": {
        "id": "f3UMB2jjxFOw"
      },
      "source": [
        "## Decoding with Support Vector Machine\n",
        "\n",
        "As a decoder, we use a Support Vector Classifier with a linear kernel. We\n",
        "first create it using by using :class:`nilearn.decoding.Decoder`.\n",
        "\n"
      ]
    },
    {
      "cell_type": "code",
      "execution_count": null,
      "metadata": {
        "id": "olZEIZQixFOw"
      },
      "outputs": [],
      "source": [
        "from nilearn.decoding import Decoder\n",
        "\n",
        "decoder = Decoder(\n",
        "    estimator=\"svc\", mask=mask_filename, standardize=\"zscore_sample\"\n",
        ")"
      ]
    },
    {
      "cell_type": "markdown",
      "metadata": {
        "id": "-7hSgxAnxFOw"
      },
      "source": [
        "The decoder object is an object that can be fit (or trained) on data with\n",
        "labels, and then predict labels on data without.\n",
        "\n",
        "We first fit it on the data\n",
        "\n"
      ]
    },
    {
      "cell_type": "code",
      "execution_count": null,
      "metadata": {
        "id": "omOwx0gSxFOw"
      },
      "outputs": [],
      "source": [
        "decoder.fit(fmri_niimgs, conditions)"
      ]
    },
    {
      "cell_type": "markdown",
      "metadata": {
        "id": "oFq4A4w3xFOw"
      },
      "source": [
        "We can then predict the labels from the data\n",
        "\n"
      ]
    },
    {
      "cell_type": "code",
      "execution_count": null,
      "metadata": {
        "id": "CSadCjDKxFOw"
      },
      "outputs": [],
      "source": [
        "prediction = decoder.predict(fmri_niimgs)\n",
        "print(prediction)"
      ]
    },
    {
      "cell_type": "markdown",
      "metadata": {
        "id": "wQpN36YcxFOw"
      },
      "source": [
        "Note that for this classification task both classes contain the same number\n",
        "of samples (the problem is balanced). Then, we can use accuracy to measure\n",
        "the performance of the decoder. This is done by defining accuracy as the\n",
        "`scoring`.\n",
        "Let's measure the prediction accuracy:\n",
        "\n"
      ]
    },
    {
      "cell_type": "code",
      "execution_count": null,
      "metadata": {
        "id": "_AsWqgwExFOw"
      },
      "outputs": [],
      "source": [
        "print((prediction == conditions).sum() / float(len(conditions)))"
      ]
    },
    {
      "cell_type": "markdown",
      "metadata": {
        "id": "Xh0XEohmxFOw"
      },
      "source": [
        "This prediction accuracy score is meaningless. Why?\n",
        "\n"
      ]
    },
    {
      "cell_type": "markdown",
      "metadata": {
        "id": "2n4RjpCyxFOw"
      },
      "source": [
        "## Measuring prediction scores using cross-validation\n",
        "\n",
        "The proper way to measure error rates or prediction accuracy is via\n",
        "cross-validation: leaving out some data and testing on it.\n",
        "\n",
        "### Manually leaving out data\n",
        "\n",
        "Let's leave out the 30 last data points during training, and test the\n",
        "prediction on these 30 last points:\n",
        "\n"
      ]
    },
    {
      "cell_type": "code",
      "execution_count": null,
      "metadata": {
        "id": "9j8RwSxexFOw"
      },
      "outputs": [],
      "source": [
        "fmri_niimgs_train = index_img(fmri_niimgs, slice(0, -30))\n",
        "fmri_niimgs_test = index_img(fmri_niimgs, slice(-30, None))\n",
        "conditions_train = conditions[:-30]\n",
        "conditions_test = conditions[-30:]\n",
        "\n",
        "decoder = Decoder(\n",
        "    estimator=\"svc\", mask=mask_filename, standardize=\"zscore_sample\"\n",
        ")\n",
        "decoder.fit(fmri_niimgs_train, conditions_train)\n",
        "\n",
        "prediction = decoder.predict(fmri_niimgs_test)\n",
        "\n",
        "# The prediction accuracy is calculated on the test data: this is the accuracy\n",
        "# of our model on examples it hasn't seen to examine how well the model perform\n",
        "# in general.\n",
        "\n",
        "predicton_accuracy = (prediction == conditions_test).sum() / float(\n",
        "    len(conditions_test)\n",
        ")\n",
        "print(f\"Prediction Accuracy: {predicton_accuracy:.3f}\")"
      ]
    },
    {
      "cell_type": "markdown",
      "metadata": {
        "id": "kf_C0DAJxFOx"
      },
      "source": [
        "### Implementing a KFold loop\n",
        "\n",
        "We can manually split the data in train and test set repetitively in a\n",
        "`KFold` strategy by importing scikit-learn's object:\n",
        "\n"
      ]
    },
    {
      "cell_type": "code",
      "execution_count": null,
      "metadata": {
        "id": "TgAMlOynxFOx"
      },
      "outputs": [],
      "source": [
        "from sklearn.model_selection import KFold\n",
        "\n",
        "cv = KFold(n_splits=5)\n",
        "\n",
        "for fold, (train, test) in enumerate(cv.split(conditions), start=1):\n",
        "    decoder = Decoder(\n",
        "        estimator=\"svc\", mask=mask_filename, standardize=\"zscore_sample\"\n",
        "    )\n",
        "    decoder.fit(index_img(fmri_niimgs, train), conditions[train])\n",
        "    prediction = decoder.predict(index_img(fmri_niimgs, test))\n",
        "    predicton_accuracy = (prediction == conditions[test]).sum() / float(\n",
        "        len(conditions[test])\n",
        "    )\n",
        "    print(\n",
        "        f\"CV Fold {fold:01d} | \"\n",
        "        f\"Prediction Accuracy: {predicton_accuracy:.3f}\"\n",
        "    )"
      ]
    },
    {
      "cell_type": "markdown",
      "metadata": {
        "id": "71ZyfkIkxFOx"
      },
      "source": [
        "### Cross-validation with the decoder\n",
        "\n",
        "The decoder also implements a cross-validation loop by default and returns\n",
        "an array of shape (cross-validation parameters, `n_folds`). We can use\n",
        "accuracy score to measure its performance by defining `accuracy` as the\n",
        "`scoring` parameter.\n",
        "\n"
      ]
    },
    {
      "cell_type": "code",
      "execution_count": null,
      "metadata": {
        "id": "gJPtykt3xFOx"
      },
      "outputs": [],
      "source": [
        "n_folds = 5\n",
        "decoder = Decoder(\n",
        "    estimator=\"svc\",\n",
        "    mask=mask_filename,\n",
        "    standardize=\"zscore_sample\",\n",
        "    cv=n_folds,\n",
        "    scoring=\"accuracy\",\n",
        ")\n",
        "decoder.fit(fmri_niimgs, conditions)"
      ]
    },
    {
      "cell_type": "markdown",
      "metadata": {
        "id": "dFOc-5mExFOx"
      },
      "source": [
        "Cross-validation pipeline can also be implemented manually. More details can\n",
        "be found on [scikit-learn website](https://scikit-learn.org/stable/modules/generated/sklearn.model_selection.cross_val_score.html).\n",
        "\n",
        "Then we can check the best performing parameters per fold.\n",
        "\n"
      ]
    },
    {
      "cell_type": "code",
      "execution_count": null,
      "metadata": {
        "id": "i3nRsOrcxFOx"
      },
      "outputs": [],
      "source": [
        "print(decoder.cv_params_[\"face\"])"
      ]
    },
    {
      "cell_type": "markdown",
      "metadata": {
        "id": "z5JkqdwrxFOx"
      },
      "source": [
        "<div class=\"alert alert-info\"><h4>Note</h4><p></p></div>\n",
        "\tWe can speed things up to use all the CPUs of our computer with the\n",
        "\tn_jobs parameter.\n",
        "\n",
        "The best way to do cross-validation is to respect the structure of\n",
        "the experiment, for instance by leaving out full sessions of\n",
        "acquisition.\n",
        "\n",
        "The number of the session is stored in the CSV file giving the\n",
        "behavioral data. We have to apply our session mask, to select only cats\n",
        "and faces.\n",
        "\n"
      ]
    },
    {
      "cell_type": "code",
      "execution_count": null,
      "metadata": {
        "id": "qAv01RUexFOx"
      },
      "outputs": [],
      "source": [
        "session_label = behavioral[\"chunks\"][condition_mask]"
      ]
    },
    {
      "cell_type": "markdown",
      "metadata": {
        "id": "TCpR_B--xFOx"
      },
      "source": [
        "The :term:`fMRI` data is acquired by sessions,\n",
        "and the noise is autocorrelated in a\n",
        "given session. Hence, it is better to predict across sessions when doing\n",
        "cross-validation. To leave a session out, pass the cross-validator object\n",
        "to the cv parameter of decoder.\n",
        "\n"
      ]
    },
    {
      "cell_type": "code",
      "execution_count": null,
      "metadata": {
        "id": "BIv5x0AwxFOx"
      },
      "outputs": [],
      "source": [
        "from sklearn.model_selection import LeaveOneGroupOut\n",
        "\n",
        "cv = LeaveOneGroupOut()\n",
        "\n",
        "decoder = Decoder(\n",
        "    estimator=\"svc\", mask=mask_filename, standardize=\"zscore_sample\", cv=cv\n",
        ")\n",
        "decoder.fit(fmri_niimgs, conditions, groups=session_label)\n",
        "\n",
        "print(decoder.cv_scores_)"
      ]
    },
    {
      "cell_type": "markdown",
      "metadata": {
        "id": "96S7ZHxJxFOx"
      },
      "source": [
        "## Inspecting the model weights\n",
        "\n",
        "Finally, it may be useful to inspect and display the model weights.\n",
        "\n",
        "### Turning the weights into a nifti image\n",
        "\n",
        "We retrieve the SVC discriminating weights\n",
        "\n"
      ]
    },
    {
      "cell_type": "code",
      "execution_count": null,
      "metadata": {
        "id": "ltNG8unwxFO1"
      },
      "outputs": [],
      "source": [
        "coef_ = decoder.coef_\n",
        "print(coef_)"
      ]
    },
    {
      "cell_type": "markdown",
      "metadata": {
        "id": "wt9yORmxxFO1"
      },
      "source": [
        "It's a numpy array with only one coefficient per voxel:\n",
        "\n"
      ]
    },
    {
      "cell_type": "code",
      "execution_count": null,
      "metadata": {
        "id": "aQSSLyf8xFO1"
      },
      "outputs": [],
      "source": [
        "print(coef_.shape)"
      ]
    },
    {
      "cell_type": "markdown",
      "metadata": {
        "id": "pqOspe3ZxFO1"
      },
      "source": [
        "To get the Nifti image of these coefficients, we only need retrieve the\n",
        "`coef_img_` in the decoder and select the class\n",
        "\n"
      ]
    },
    {
      "cell_type": "code",
      "execution_count": null,
      "metadata": {
        "id": "OCnJcDsexFO1"
      },
      "outputs": [],
      "source": [
        "coef_img = decoder.coef_img_[\"face\"]"
      ]
    },
    {
      "cell_type": "markdown",
      "metadata": {
        "id": "cJIj0v0AxFO1"
      },
      "source": [
        "coef_img is now a NiftiImage.  We can save the coefficients as a nii.gz file:\n",
        "\n"
      ]
    },
    {
      "cell_type": "code",
      "execution_count": null,
      "metadata": {
        "id": "DjVFU9ACxFO1"
      },
      "outputs": [],
      "source": [
        "decoder.coef_img_[\"face\"].to_filename(\"haxby_svc_weights.nii.gz\")"
      ]
    },
    {
      "cell_type": "markdown",
      "metadata": {
        "id": "rC8tITm-xFO1"
      },
      "source": [
        "### Plotting the SVM weights\n",
        "\n",
        "We can plot the weights, using the subject's anatomical as a background\n",
        "\n"
      ]
    },
    {
      "cell_type": "code",
      "execution_count": null,
      "metadata": {
        "id": "jTelCvV8xFO1"
      },
      "outputs": [],
      "source": [
        "plotting.view_img(\n",
        "    decoder.coef_img_[\"face\"],\n",
        "    bg_img=haxby_dataset.anat[0],\n",
        "    title=\"SVM weights\",\n",
        "    dim=-1,\n",
        ")"
      ]
    },
    {
      "cell_type": "markdown",
      "metadata": {
        "id": "GiNY3Z9uxFO1"
      },
      "source": [
        "## What is the chance level accuracy?\n",
        "\n",
        "Does the model above perform better than chance?\n",
        "To answer this question, we measure a score at random using simple strategies\n",
        "that are implemented in the :class:`nilearn.decoding.Decoder` object. This is\n",
        "useful to inspect the decoding performance by comparing to a score at chance.\n",
        "\n"
      ]
    },
    {
      "cell_type": "markdown",
      "metadata": {
        "id": "AMM9uDg7xFO1"
      },
      "source": [
        "Let's define a object with Dummy estimator replacing 'svc' for classification\n",
        "setting. This object initializes estimator with default dummy strategy.\n",
        "\n"
      ]
    },
    {
      "cell_type": "code",
      "execution_count": null,
      "metadata": {
        "id": "6dzDp0iTxFO1"
      },
      "outputs": [],
      "source": [
        "dummy_decoder = Decoder(\n",
        "    estimator=\"dummy_classifier\",\n",
        "    mask=mask_filename,\n",
        "    cv=cv,\n",
        "    standardize=\"zscore_sample\",\n",
        ")\n",
        "dummy_decoder.fit(fmri_niimgs, conditions, groups=session_label)\n",
        "\n",
        "# Now, we can compare these scores by simply taking a mean over folds\n",
        "print(dummy_decoder.cv_scores_)"
      ]
    },
    {
      "cell_type": "markdown",
      "metadata": {
        "id": "xghG9RLCxFO1"
      },
      "source": [
        "## Further reading\n",
        "\n",
        "* The `section of the documentation on decoding <decoding>`\n",
        "\n",
        "* `sphx_glr_auto_examples_02_decoding_plot_haxby_anova_svm.py`\n",
        "  For decoding without a precomputed mask\n",
        "\n",
        "* `frem`\n",
        "\n",
        "* `space_net`\n",
        "\n",
        "______________\n",
        "\n"
      ]
    }
  ],
  "metadata": {
    "kernelspec": {
      "display_name": "Python 3",
      "language": "python",
      "name": "python3"
    },
    "language_info": {
      "codemirror_mode": {
        "name": "ipython",
        "version": 3
      },
      "file_extension": ".py",
      "mimetype": "text/x-python",
      "name": "python",
      "nbconvert_exporter": "python",
      "pygments_lexer": "ipython3",
      "version": "3.9.16"
    },
    "colab": {
      "provenance": [],
      "include_colab_link": true
    }
  },
  "nbformat": 4,
  "nbformat_minor": 0
}