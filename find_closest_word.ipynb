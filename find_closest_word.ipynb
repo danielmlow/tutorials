{
  "nbformat": 4,
  "nbformat_minor": 0,
  "metadata": {
    "colab": {
      "name": "find_closest_word.ipynb",
      "provenance": [],
      "collapsed_sections": [],
      "authorship_tag": "ABX9TyM4g8dlsgK0q1ncPT+Zeh/k",
      "include_colab_link": true
    },
    "kernelspec": {
      "name": "python3",
      "display_name": "Python 3"
    },
    "language_info": {
      "name": "python"
    }
  },
  "cells": [
    {
      "cell_type": "markdown",
      "metadata": {
        "id": "view-in-github",
        "colab_type": "text"
      },
      "source": [
        "<a href=\"https://colab.research.google.com/github/danielmlow/tutorials/blob/main/find_closest_word.ipynb\" target=\"_parent\"><img src=\"https://colab.research.google.com/assets/colab-badge.svg\" alt=\"Open In Colab\"/></a>"
      ]
    },
    {
      "cell_type": "code",
      "source": [
        "import spacy.cli\n",
        "# Takes several minutes to download\n",
        "spacy.cli.download(\"en_core_web_lg\")"
      ],
      "metadata": {
        "colab": {
          "base_uri": "https://localhost:8080/"
        },
        "id": "GXexCGBLLUJA",
        "outputId": "894f7b02-5972-45a3-ed53-f328f4a193a3"
      },
      "execution_count": 4,
      "outputs": [
        {
          "output_type": "stream",
          "name": "stdout",
          "text": [
            "\u001b[38;5;2m✔ Download and installation successful\u001b[0m\n",
            "You can now load the model via spacy.load('en_core_web_lg')\n"
          ]
        }
      ]
    },
    {
      "cell_type": "code",
      "execution_count": 6,
      "metadata": {
        "id": "bw4Uz0esLGNZ"
      },
      "outputs": [],
      "source": [
        "import numpy as np\n",
        "import spacy\n",
        "\n",
        "nlp = spacy.load(\"en_core_web_lg\")\n",
        "add_words_you_already_tried =[] # so they don't come up in results (optional)"
      ]
    },
    {
      "cell_type": "code",
      "source": [
        "your_word = \"sofa\"\n",
        "add_words_you_already_tried.append(your_word)\n",
        "top_n = 300\n",
        "ms = nlp.vocab.vectors.most_similar(\n",
        "    np.asarray([nlp.vocab.vectors[nlp.vocab.strings[your_word]]]), n=top_n)\n",
        "words = [nlp.vocab.strings[w] for w in ms[0][0]]\n",
        "distances = ms[2]\n",
        "words = [n.lower() for n in words]\n",
        "words = [n for n in words if n not in add_words_you_already_tried]\n",
        "words = set(words)\n",
        "\n",
        "print('most similar words: ', words)"
      ],
      "metadata": {
        "colab": {
          "base_uri": "https://localhost:8080/"
        },
        "id": "TFSqifLRMPBf",
        "outputId": "51c67b06-ae25-4780-e648-0fbd3f03bfdd"
      },
      "execution_count": 39,
      "outputs": [
        {
          "output_type": "stream",
          "name": "stdout",
          "text": [
            "most similar words:  {'drawers', 'bedroom', 'cozy', 'chaise', 'room', 'balcony', 'bathroom', 'crib', 'dresser', 'shower', 'queen-size', 'rattan', 'floor', 'armchairs', 'lounging', 'slipcovers', 'plush', 'king-sized', 'furniture', 'kitchenette', 'sofa', 'furnishings', 'comforter', 'wardrobes', 'wicker', 'lounger', 'patio', 'sitting', 'kitchen', 'comfy', 'upholstered', 'couches', 'cot', 'upholstery', 'headboards', 'chair', 'sofabed', 'lounge', 'reclining', 'tub', 'hammock', 'closet', 'bedding', 'dressers', 'ottoman', 'recliner', 'fireplace', 'bookcase', 'headboard', 'ottomans', 'drawer', 'sleeper', 'stool', 'dinette', 'divan', 'rug', 'cushions', 'loveseat', 'bath', 'settee', 'futon', 'desk', 'seating', 'bedspread', 'overstuffed', 'bedside', 'table', 'stools', 'beds', 'matress', 'downstairs', 'pillows', 'armchair', 'queen-sized', 'dinning', 'daybed', 'slipcover', 'sofas', 'futons', 'settees', 'curtains', 'bed', 'livingroom', 'living-room', 'king-size', 'couch', 'mattresses', 'dining', 'duvet', 'upstairs', 'mattress', 'loveseats', 'sleeping', 'bathtub', 'seater', 'wingback', 'armoire', 'linens', 'chairs', 'bookcases', 'desks', 'nightstand', 'pillow', 'cushion'}\n"
          ]
        }
      ]
    },
    {
      "cell_type": "code",
      "source": [
        ""
      ],
      "metadata": {
        "id": "YyUFo_CUMWgQ"
      },
      "execution_count": null,
      "outputs": []
    }
  ]
}