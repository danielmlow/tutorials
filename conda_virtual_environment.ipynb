{
  "nbformat": 4,
  "nbformat_minor": 0,
  "metadata": {
    "colab": {
      "provenance": [],
      "authorship_tag": "ABX9TyPRPGt1zsV7cyveaxZoBbTW",
      "include_colab_link": true
    },
    "kernelspec": {
      "name": "python3",
      "display_name": "Python 3"
    },
    "language_info": {
      "name": "python"
    }
  },
  "cells": [
    {
      "cell_type": "markdown",
      "metadata": {
        "id": "view-in-github",
        "colab_type": "text"
      },
      "source": [
        "<a href=\"https://colab.research.google.com/github/danielmlow/tutorials/blob/main/conda_virtual_environment.ipynb\" target=\"_parent\"><img src=\"https://colab.research.google.com/assets/colab-badge.svg\" alt=\"Open In Colab\"/></a>"
      ]
    },
    {
      "cell_type": "markdown",
      "source": [
        "# Conda env\n",
        "conda create -n template python=3.8 pandas numpy scikit-learn notebook seaborn matplotlib plotly jupyterlab \n",
        "\n",
        "- COPY: `conda create --name new_name --clone template`\n",
        "- INFO: `conda info --envs`\n",
        "- SIZE: `du -h -s $(conda info --base)/envs/*`\n",
        "- REMOVE: `conda remove --name myenv --all`\n",
        "\n",
        "\n",
        "Changing Python interpreter in PyCharm to your virtual environment\n",
        "\n",
        "```\n",
        "Preferences > Python Interpreter > Virtual Env > Existing + Make available to all projects\n",
        "```\n"
      ],
      "metadata": {
        "id": "wVxKh5JQxNbu"
      }
    }
  ]
}