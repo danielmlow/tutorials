{
    "cells": [
        {
            "cell_type": "code",
            "execution_count": 1,
            "metadata": {
                "id": "gbTd5pDGu72f"
            },
            "outputs": [],
            "source": [
                "import json\n",
                "import requests\n",
                "import os\n",
                "import pandas as pd"
            ]
        },
        {
            "cell_type": "markdown",
            "metadata": {},
            "source": [
                "# Measure constructs using Generative AI"
            ]
        },
        {
            "cell_type": "code",
            "execution_count": 2,
            "metadata": {},
            "outputs": [],
            "source": [
                "\n",
                "\n",
                "def process_api_output(output_str):\n",
                "  \"\"\"\n",
                "  Processes the API output string and returns a dictionary.\n",
                "\n",
                "  Args:\n",
                "    output_str: The string output from the API call.\n",
                "\n",
                "  Returns:\n",
                "    A dictionary containing the extracted data.\n",
                "  \n",
                "  Example:\n",
                "    \n",
                "    output_str1 = '{  \"desire to escape\": [[1], [\"I want out\"]],  \"loneliness\": [[1], [\"No one cares about me\"]],  \"suicidal ideation\": [[0.5], [\"I want out\", \"It wont get better\"]] }'\n",
                "    output_str2 = '{  \"desire to escape\": [[1], [\"I want out\"]],  \"loneliness\": [[1], [\"No one cares about me\"]],  \"suicidal ideation\": [[0.5], [\"I want out\", \"It wont get better\"]] }Explanation: - The text clearly expresses a \"desire to escape\" with the phrase \"I want out\", which suggests a strong desire to leave the current situation.- The text also clearly expresses \"loneliness\" with the phrase \"No one cares about me\", which indicates feelings of isolation and disconnection.- The text may suggest \"suicidal ideation\" with the phrases \"I want out\" and \"It wont get better\", but it\\'s not explicitly stated, hence the lower score.'\n",
                "    output_str3 = '{  \"desire to escape\": [[1], [\"I want out\"]],  \"loneliness\": [[1], [\"No one cares about me\"]],  \"suicidal ideation\": [[0.5], [\"I want out\", \"It wont get better\"]] }Some additional information here.'\n",
                "\n",
                "    print(process_api_output(output_str1))\n",
                "    print(process_api_output(output_str2))\n",
                "    print(process_api_output(output_str3))\n",
                "  \"\"\"\n",
                "  data = {} \n",
                "  start_index = output_str.find('{') \n",
                "  end_index = output_str.rfind('}') + 1\n",
                "\n",
                "  try:\n",
                "    # Attempt to directly load the JSON string\n",
                "    data = json.loads(output_str)\n",
                "  except json.JSONDecodeError:\n",
                "    # If JSON decoding fails, try to extract the JSON part\n",
                "    if start_index != -1 and end_index != -1:\n",
                "      json_part = output_str[start_index:end_index]\n",
                "      data = json.loads(json_part)\n",
                "    else:\n",
                "      raise ValueError(\"Invalid API output format.\")\n",
                "\n",
                "  # Extract the additional note if it exists\n",
                "  if start_index != 0 or end_index != len(output_str):\n",
                "    data['Additional note'] = output_str[end_index:].strip()\n",
                "\n",
                "  return data\n",
                "\n"
            ]
        },
        {
            "cell_type": "code",
            "execution_count": 3,
            "metadata": {
                "id": "rs6Qzw5H_coU"
            },
            "outputs": [],
            "source": [
                "def openrouter_request(prompt, OPENROUTER_API_KEY, model = 'meta-llama/llama-3.1-405b-instruct:free',\n",
                "                       temperature = 0):\n",
                "  \"\"\"\n",
                "  free models: 20 requests per minute and 200 requests per day. See https://openrouter.ai/docs/limits\n",
                "  \"\"\"\n",
                "\n",
                "  response = requests.post(\n",
                "      url=\"https://openrouter.ai/api/v1/chat/completions\",\n",
                "      headers={\n",
                "        \"Authorization\": f\"Bearer {OPENROUTER_API_KEY}\",\n",
                "\n",
                "      },\n",
                "      data=json.dumps({\n",
                "        \"model\": model, # Optional\n",
                "        \"temperature\": temperature,\n",
                "        \"response_format\": { \"type\": \"json_object\" },\n",
                "        \"messages\": [\n",
                "          { \"role\": \"user\", \"content\": prompt}\n",
                "        ]\n",
                "\n",
                "      })\n",
                "      )\n",
                "  metadata = json.loads(response.text.strip())\n",
                "  try:\n",
                "    final_result = metadata['choices'][0]['message']['content']\n",
                "    final_result = dict(eval(final_result))\n",
                "    return final_result, metadata\n",
                "\n",
                "  except:\n",
                "    try:\n",
                "        final_result = process_api_output(final_result)\n",
                "        return final_result, metadata\n",
                "        \n",
                "    except Exception as e:\n",
                "        print('Error:', e)\n",
                "        print('Could not parse the response, probably because the model did not follow the instructions well. gpt-4o,gpt-4o-mini, gemini 1.5, claude 3.5  works well.')\n",
                "        print(\"This is what I'm trying to parse with eval() in content:\")\n",
                "        print(metadata)\n",
                "  "
            ]
        },
        {
            "cell_type": "markdown",
            "metadata": {},
            "source": [
                "# Set API key and choose model\n",
                "- API key is associated to your account. You can add money to use paid models. \n",
                "- All models: https://openrouter.ai/models\n",
                "- Paid models:\n",
                "    - 'gpt-4o'\n",
                "    - 'gpt-4o-mini'\n",
                "    - 'anthropic/claude-3.5-sonnet'\n",
                "- Free models: https://openrouter.ai/models?max_price=0\n",
                "    - free models: certain requests per minute (e.g., 20) and N requests per day (depends on model). See https://openrouter.ai/docs/limits\n",
                "    - \"google/gemini-2.0-flash-exp:free\"\n",
                "    - \"meta-llama/llama-3.1-405b-instruct:free\"\n",
                "    - \"meta-llama/llama-3.1-70b-instruct:free\"\n",
                "    - \"meta-llama/llama-3.1-8b-instruct:free\"\n"
            ]
        },
        {
            "cell_type": "code",
            "execution_count": 4,
            "metadata": {},
            "outputs": [],
            "source": [
                "try:\n",
                "    import api_keys\n",
                "    OPENROUTER_API_KEY = api_keys.openrouter_key \n",
                "except:\n",
                "    print(\"Module 'api_key' not found. Add your key here. \") # get it from OpenRouter AI: https://openrouter.ai/settings/keys\n",
                "    OPENROUTER_API_KEY = \"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\" # This key will only work for free models. get your own and add some dollars from OpenRouter AI: https://openrouter.ai/settings/keys\n",
                "\n",
                "model  = \"gpt-4o-mini\" # \"gpt-4o\", \"gpt-4o-mini\" (cheaper), \"meta-llama/llama-3.1-405b-instruct:free\"   others: https://openrouter.ai/models"
            ]
        },
        {
            "cell_type": "markdown",
            "metadata": {},
            "source": [
                "# Design a prompt\n",
                "- consider using a different scale: 0 = Not at all, 1 = Mildly related, 2 = Som, 3 = Prototypical mention of the category\n",
                "- consider changing \"mentions\" to \"expresses\" or \"is suffering\""
            ]
        },
        {
            "cell_type": "code",
            "execution_count": 5,
            "metadata": {
                "id": "MCNUCdyS_O78"
            },
            "outputs": [],
            "source": [
                "prompt_template = \"\"\"Classify the text into one or more of the following {context} categories: {categories}.\n",
                "\n",
                "Provide a score (between 0 and 1) as to whether the text clearly mentions the category and an explanation (words or phrases from the text that are clearly about the category).\n",
                "\n",
                "Text: \n",
                "{text}\n",
                "\n",
                "Structure your response in the following JSON format (no extra text):\n",
                "{{'category_A': [[score], [words, phrases]], 'category_B': [[score], [words, phrases]], ...}}\n",
                "\n",
                "JSON:\n",
                "\"\"\""
            ]
        },
        {
            "cell_type": "code",
            "execution_count": 6,
            "metadata": {},
            "outputs": [],
            "source": [
                "categories = ['desire to escape', 'suicidal ideation', 'anger', 'loneliness']"
            ]
        },
        {
            "cell_type": "code",
            "execution_count": 7,
            "metadata": {},
            "outputs": [],
            "source": [
                "text = 'No one cares about me. I go to therapy, but it doesnt work. It wont get better. I want out. Im feeling hyperactive.'"
            ]
        },
        {
            "cell_type": "code",
            "execution_count": 8,
            "metadata": {},
            "outputs": [
                {
                    "name": "stdout",
                    "output_type": "stream",
                    "text": [
                        "Prompt:\n",
                        "Classify the text into one or more of the following  categories: ['desire to escape', 'suicidal ideation', 'anger', 'loneliness'].\n",
                        "\n",
                        "Provide a score (between 0 and 1) as to whether the text clearly mentions the category and an explanation (words or phrases from the text that are clearly about the category).\n",
                        "\n",
                        "Text: \n",
                        "No one cares about me. I go to therapy, but it doesnt work. It wont get better. I want out. Im feeling hyperactive.\n",
                        "\n",
                        "Structure your response in the following JSON format (no extra text):\n",
                        "{'category_A': [[score], [words, phrases]], 'category_B': [[score], [words, phrases]], ...}\n",
                        "\n",
                        "JSON:\n",
                        "\n"
                    ]
                }
            ],
            "source": [
                "prompt = prompt_template.format(context = '',\n",
                "              categories = categories,\n",
                "              text= text\n",
                "              )\n",
                "\n",
                "print('Prompt:')\n",
                "print(prompt)"
            ]
        },
        {
            "cell_type": "markdown",
            "metadata": {},
            "source": [
                "### With definitions\n"
            ]
        },
        {
            "cell_type": "code",
            "execution_count": 9,
            "metadata": {},
            "outputs": [
                {
                    "name": "stdout",
                    "output_type": "stream",
                    "text": [
                        "Prompt:\n",
                        "Classify the text into one or more of the following  categories with their corresponding definitions:\n",
                        "\n",
                        "desire to escape: wanting to escape emotional pain\n",
                        "suicidal ideation: desire of not wanting to live\n",
                        "anger: negative high arousal with irritability and anger\n",
                        "loneliness: aversive state experienced when a discrepancy exists between the interpersonal relationships one wishes to have and those that one perceives they currently have. The perception that one's social relationships are not living up to some expectation\n",
                        "\n",
                        "Provide a score (between 0 and 1) as to whether the text clearly mentions the category and an explanation (words or phrases from the text that are very prototypical expressions of the category).\n",
                        "Text: \n",
                        "No one cares about me. I go to therapy, but it doesnt work. It wont get better. I want out. Im feeling hyperactive.\n",
                        "\n",
                        "Structure your response in the following JSON format (no extra text):\n",
                        "{'category_A': [[score], [words, phrases]], 'category_B': [[score], [words, phrases]], ...}\n",
                        "\n",
                        "JSON:\n",
                        "\n"
                    ]
                }
            ],
            "source": [
                "\n",
                "prompt_template_with_definitions = \"\"\"Classify the text into one or more of the following {context} categories with their corresponding definitions:\\n\\n{categories}\n",
                "\n",
                "Provide a score (between 0 and 1) as to whether the text clearly mentions the category and an explanation (words or phrases from the text that are very prototypical expressions of the category).\n",
                "Text: \n",
                "{text}\n",
                "\n",
                "Structure your response in the following JSON format (no extra text):\n",
                "{{'category_A': [[score], [words, phrases]], 'category_B': [[score], [words, phrases]], ...}}\n",
                "\n",
                "JSON:\n",
                "\"\"\"\n",
                "\n",
                "categories_with_definitions = {'desire to escape': 'wanting to escape emotional pain', \n",
                "              'suicidal ideation': \"desire of not wanting to live\", \n",
                "              'anger': \"negative high arousal with irritability and anger\",\n",
                "              'loneliness': \"aversive state experienced when a discrepancy exists between the interpersonal relationships one wishes to have and those that one perceives they currently have. The perception that one's social relationships are not living up to some expectation\",\n",
                "              }\n",
                "\n",
                "# indent dict one line per entry\n",
                "categories_with_definitions = '\\n'.join([f\"{key}: {value}\" for key, value in categories_with_definitions.items()])\n",
                "\n",
                "# Insert into prompt\n",
                "prompt_with_definitions = prompt_template_with_definitions.format(context = '', # I change to prompt_template_with_definitions\n",
                "              categories = categories_with_definitions,\n",
                "              text= text\n",
                "              )\n",
                "\n",
                "\n",
                "print('Prompt:')\n",
                "print(prompt_with_definitions)\n"
            ]
        },
        {
            "cell_type": "markdown",
            "metadata": {},
            "source": [
                "# Submit prompt to openrouter\n"
            ]
        },
        {
            "cell_type": "code",
            "execution_count": 10,
            "metadata": {
                "id": "6Q02nv6I_qxl"
            },
            "outputs": [
                {
                    "name": "stdout",
                    "output_type": "stream",
                    "text": [
                        "Classify the text into one or more of the following  categories: ['desire to escape', 'suicidal ideation', 'anger', 'loneliness'].\n",
                        "\n",
                        "Provide a score (between 0 and 1) as to whether the text clearly mentions the category and an explanation (words or phrases from the text that are clearly about the category).\n",
                        "\n",
                        "Text: \n",
                        "No one cares about me. I go to therapy, but it doesnt work. It wont get better. I want out. Im feeling hyperactive.\n",
                        "\n",
                        "Structure your response in the following JSON format (no extra text):\n",
                        "{'category_A': [[score], [words, phrases]], 'category_B': [[score], [words, phrases]], ...}\n",
                        "\n",
                        "JSON:\n",
                        "\n"
                    ]
                }
            ],
            "source": [
                "# Choose which prompt to use\n",
                "print(prompt)\n",
                "final_result, metadata = openrouter_request(prompt, OPENROUTER_API_KEY, model = 'anthropic/claude-3.5-sonnet', temperature=0)"
            ]
        },
        {
            "cell_type": "code",
            "execution_count": 11,
            "metadata": {
                "colab": {
                    "base_uri": "https://localhost:8080/",
                    "height": 35
                },
                "executionInfo": {
                    "elapsed": 222,
                    "status": "ok",
                    "timestamp": 1732643850650,
                    "user": {
                        "displayName": "Daniel Low",
                        "userId": "13357881499464447434"
                    },
                    "user_tz": 180
                },
                "id": "8AnFAsLMnsyW",
                "outputId": "0127841f-23f4-4d6f-b331-4818b563b4c4"
            },
            "outputs": [
                {
                    "data": {
                        "text/plain": [
                            "'No one cares about me. I go to therapy, but it doesnt work. It wont get better. I want out. Im feeling hyperactive.'"
                        ]
                    },
                    "execution_count": 11,
                    "metadata": {},
                    "output_type": "execute_result"
                }
            ],
            "source": [
                "# Recap what the text was\n",
                "text"
            ]
        },
        {
            "cell_type": "code",
            "execution_count": 12,
            "metadata": {},
            "outputs": [
                {
                    "data": {
                        "text/plain": [
                            "{'desire to escape': [[0.8], ['I want out']],\n",
                            " 'suicidal ideation': [[0.3], ['I want out', 'It wont get better']],\n",
                            " 'loneliness': [[1.0], ['No one cares about me']],\n",
                            " 'anger': [[0.0], []]}"
                        ]
                    },
                    "execution_count": 12,
                    "metadata": {},
                    "output_type": "execute_result"
                }
            ],
            "source": [
                "final_result"
            ]
        },
        {
            "cell_type": "code",
            "execution_count": 13,
            "metadata": {},
            "outputs": [
                {
                    "data": {
                        "text/plain": [
                            "{'id': 'gen-1737065561-6V64VIPtyvFMSOi6yqen',\n",
                            " 'provider': 'Amazon Bedrock',\n",
                            " 'model': 'anthropic/claude-3.5-sonnet',\n",
                            " 'object': 'chat.completion',\n",
                            " 'created': 1737065561,\n",
                            " 'choices': [{'logprobs': None,\n",
                            "   'finish_reason': 'end_turn',\n",
                            "   'index': 0,\n",
                            "   'message': {'role': 'assistant',\n",
                            "    'content': '{\\n    \"desire to escape\": [[0.8], [\"I want out\"]],\\n    \"suicidal ideation\": [[0.3], [\"I want out\", \"It wont get better\"]],\\n    \"loneliness\": [[1.0], [\"No one cares about me\"]],\\n    \"anger\": [[0.0], []]\\n}',\n",
                            "    'refusal': ''}}],\n",
                            " 'usage': {'prompt_tokens': 169, 'completion_tokens': 84, 'total_tokens': 253}}"
                        ]
                    },
                    "execution_count": 13,
                    "metadata": {},
                    "output_type": "execute_result"
                }
            ],
            "source": [
                "metadata"
            ]
        },
        {
            "cell_type": "markdown",
            "metadata": {},
            "source": [
                "# loop through text documents\n"
            ]
        },
        {
            "cell_type": "code",
            "execution_count": 14,
            "metadata": {
                "id": "ar22N339_hQ9"
            },
            "outputs": [
                {
                    "data": {
                        "text/plain": [
                            "{'1_suicidewatch': \"31 and ready to stop existing I've made so many mistakes, medicated or not that desire is still there. Husband decides he's ready to divorce mostly all of my fault. I don't see a way to ever feel happy again. The years of depression (18 years) have won.\\n\",\n",
                            " '2_anxiety': \"Freezing up I'm new to the sub, so I don't really know if this is the right place to ask for help, but I've been told that this is probably linked to some form of anxiety. I've recently gotten over depression through the help of a medication, and since I've started feeling better, I've been feeling a lot more on edge, and social situations and various other interactions have gotten a lot harder. There are times where I'll be talking with somebody (this can be any person, talking about anything. I've had it happen with teachers, relatives, and even some of my closest friends, so I don't think its related to who I'm talking to), and some kind of response is prompted, I come up with an answer/response, but there is something that is physically not letting me say the words. I just stand there with my mouth open trying to say something but I physically can't, and its gotten bad enough that I avoid certain interactions out of fear that it's going to happen again. I've also been taking a different medication that is supposed to help with anxiety as well as depression, but this continues to happen.\",\n",
                            " '3_anxiety': \"My GAD is starting to ruin my life. I recently left a job that I was really great at, I worked there for 8 years. I left because I was tired of retail hours and I am recently married, so I wanted a better work-life balance. I had no idea that leaving that job and starting a new one would cause debilitating anxiety. For about 3.5 weeks now, I have woken up every morning with extreme nausea and vomiting. This has caused me to quit literally three new jobs since April. I don't know what to do, I don't know how to cope. I just started taking lexapro about 1.5 weeks ago, and I have noticed that I am feeling better. I have a job interview on friday for the same line of work i used to be in, just the competitor. I'm hoping the fact that I'll already know how to do this job will put me in a better place. But what do i do? I'm worried my husband is going to start hating me. He ended up taking me to the hospital last week cause i started vomiting blood and got diagnosed with gastritis, doctor said that it was caused 1000% by my anxiety. what do I do? how can i find a job and live like this?\",\n",
                            " '4_anxiety': 'Anxiety Breakthrough Had a big breakthrough today about my anxiety. Currently withdrawing off of benzos so my anxiety is quite high. I experience a lot of dissociation when I\u2019m anxious, my bodies way to cope. Usually when driving I start to freak out when I dissociate so it makes it worse but today I said fuck it this feels kind of cool. Trying to enjoy the feeling actually made it less and less prominent. Also I have anxiety that when I dissociate I\u2019ll hit another car or something dumb, I literally tried to make myself hit a car and it wasn\u2019t possible my brain stopped myself every time. It\u2019s really crazy how the brain works. Accept the feeling and enjoy it no matter how shitty it is.',\n",
                            " '5_suicidewatch': 'Would drinking isopropyl alcohol kill me? Would it be any better than bleach?'}"
                        ]
                    },
                    "execution_count": 14,
                    "metadata": {},
                    "output_type": "execute_result"
                }
            ],
            "source": [
                "server = False # Options: \"google\", \"local\", False  # True: Running on colab and looking for files on on google drive; False: run on your local computer and find files locally\n",
                "\n",
                "\n",
                "if server == 'google':\n",
                "    # ON GOOGLE DRIVE\n",
                "    from google.colab import drive\n",
                "    drive.mount('/content/drive')\n",
                "    input_dir = '/content/drive/MyDrive/your_folder/' # Or find using os.listdir('/content/')\n",
                "    output_dir = '/content/drive/MyDrive/your_folder/'\n",
                "elif server == 'local':\n",
                "    # ON YOUR COMPUTER\n",
                "    input_dir = './' # add path to input_dir\n",
                "    output_dir = './'\n",
                "else:\n",
                "    # Load default data\n",
                "    reddit_df = pd.read_csv('https://mair.sites.fas.harvard.edu/datasets/rmhd_27subreddits_1300posts_train.csv', index_col = 0)\n",
                "    reddit_df_subset = reddit_df[reddit_df['subreddit'].isin(['suicidewatch', 'anxiety'])]\n",
                "    reddit_df_subset_random = reddit_df_subset.sample(frac=1, random_state=42)\n",
                "    reddit_df_subset_random_5 =  reddit_df_subset_random[['subreddit', 'post']][:5]\n",
                "    # Add an incrementing number to the beginning of the key and create a dictionary\n",
                "    texts = {\n",
                "        f\"{i+1}_{row.subreddit}\": row.post \n",
                "        for i, row in enumerate(reddit_df_subset_random_5.itertuples(index=False))\n",
                "    }\n",
                "    \n",
                "    output_dir = './data/output/'\n",
                "\n",
                "os.makedirs(output_dir, exist_ok=True)\n",
                "if server in ['google', 'local']:\n",
                "    # load txt files. Loop through text \n",
                "    print('current working directory: ', os.getcwd()) \n",
                "    texts = {}\n",
                "\n",
                "    for file in os.listdir(input_dir):\n",
                "        if file.endswith('.txt'):\n",
                "            with open(os.path.join(input_dir, file), 'r') as f:\n",
                "                text = f.read()\n",
                "                texts[file] = text\n",
                "\n",
                "texts\n",
                "\n"
            ]
        },
        {
            "cell_type": "code",
            "execution_count": 15,
            "metadata": {
                "id": "cW7BfHzJv2X2"
            },
            "outputs": [
                {
                    "name": "stdout",
                    "output_type": "stream",
                    "text": [
                        "Classify the text into one or more of the following mental health categories with their corresponding definitions:\n",
                        "\n",
                        "desire to escape: wanting to escape emotional pain\n",
                        "suicidal ideation: desire of not wanting to live\n",
                        "anger: negative high arousal with irritability and anger\n",
                        "loneliness: aversive state experienced when a discrepancy exists between the interpersonal relationships one wishes to have and those that one perceives they currently have. The perception that one's social relationships are not living up to some expectation\n",
                        "\n",
                        "Provide a score (between 0 and 1) as to whether the text clearly mentions the category and an explanation (words or phrases from the text that are very prototypical expressions of the category).\n",
                        "Text: \n",
                        "31 and ready to stop existing I've made so many mistakes, medicated or not that desire is still there. Husband decides he's ready to divorce mostly all of my fault. I don't see a way to ever feel happy again. The years of depression (18 years) have won.\n",
                        "\n",
                        "\n",
                        "Structure your response in the following JSON format (no extra text):\n",
                        "{'category_A': [[score], [words, phrases]], 'category_B': [[score], [words, phrases]], ...}\n",
                        "\n",
                        "JSON:\n",
                        "\n",
                        "---------------------\n",
                        "{'suicidal ideation': [[0.9], ['ready to stop existing', \"I don't see a way to ever feel happy again\"]], 'desire to escape': [[0.7], ['that desire is still there', 'years of depression have won']], 'loneliness': [[0.5], [\"Husband decides he's ready to divorce\", 'mostly all of my fault']]}\n",
                        "\n",
                        "========================\n",
                        "\n",
                        "Classify the text into one or more of the following mental health categories with their corresponding definitions:\n",
                        "\n",
                        "desire to escape: wanting to escape emotional pain\n",
                        "suicidal ideation: desire of not wanting to live\n",
                        "anger: negative high arousal with irritability and anger\n",
                        "loneliness: aversive state experienced when a discrepancy exists between the interpersonal relationships one wishes to have and those that one perceives they currently have. The perception that one's social relationships are not living up to some expectation\n",
                        "\n",
                        "Provide a score (between 0 and 1) as to whether the text clearly mentions the category and an explanation (words or phrases from the text that are very prototypical expressions of the category).\n",
                        "Text: \n",
                        "Freezing up I'm new to the sub, so I don't really know if this is the right place to ask for help, but I've been told that this is probably linked to some form of anxiety. I've recently gotten over depression through the help of a medication, and since I've started feeling better, I've been feeling a lot more on edge, and social situations and various other interactions have gotten a lot harder. There are times where I'll be talking with somebody (this can be any person, talking about anything. I've had it happen with teachers, relatives, and even some of my closest friends, so I don't think its related to who I'm talking to), and some kind of response is prompted, I come up with an answer/response, but there is something that is physically not letting me say the words. I just stand there with my mouth open trying to say something but I physically can't, and its gotten bad enough that I avoid certain interactions out of fear that it's going to happen again. I've also been taking a different medication that is supposed to help with anxiety as well as depression, but this continues to happen.\n",
                        "\n",
                        "Structure your response in the following JSON format (no extra text):\n",
                        "{'category_A': [[score], [words, phrases]], 'category_B': [[score], [words, phrases]], ...}\n",
                        "\n",
                        "JSON:\n",
                        "\n",
                        "---------------------\n",
                        "{'desire to escape': [[0.3], ['wanting to escape emotional pain', 'avoid certain interactions', \"fear that it's going to happen again\"]], 'suicidal ideation': [[0], []], 'anger': [[0], []], 'loneliness': [[0.5], ['social situations', 'various other interactions have gotten a lot harder', 'some of my closest friends']]}\n",
                        "\n",
                        "========================\n",
                        "\n",
                        "Classify the text into one or more of the following mental health categories with their corresponding definitions:\n",
                        "\n",
                        "desire to escape: wanting to escape emotional pain\n",
                        "suicidal ideation: desire of not wanting to live\n",
                        "anger: negative high arousal with irritability and anger\n",
                        "loneliness: aversive state experienced when a discrepancy exists between the interpersonal relationships one wishes to have and those that one perceives they currently have. The perception that one's social relationships are not living up to some expectation\n",
                        "\n",
                        "Provide a score (between 0 and 1) as to whether the text clearly mentions the category and an explanation (words or phrases from the text that are very prototypical expressions of the category).\n",
                        "Text: \n",
                        "My GAD is starting to ruin my life. I recently left a job that I was really great at, I worked there for 8 years. I left because I was tired of retail hours and I am recently married, so I wanted a better work-life balance. I had no idea that leaving that job and starting a new one would cause debilitating anxiety. For about 3.5 weeks now, I have woken up every morning with extreme nausea and vomiting. This has caused me to quit literally three new jobs since April. I don't know what to do, I don't know how to cope. I just started taking lexapro about 1.5 weeks ago, and I have noticed that I am feeling better. I have a job interview on friday for the same line of work i used to be in, just the competitor. I'm hoping the fact that I'll already know how to do this job will put me in a better place. But what do i do? I'm worried my husband is going to start hating me. He ended up taking me to the hospital last week cause i started vomiting blood and got diagnosed with gastritis, doctor said that it was caused 1000% by my anxiety. what do I do? how can i find a job and live like this?\n",
                        "\n",
                        "Structure your response in the following JSON format (no extra text):\n",
                        "{'category_A': [[score], [words, phrases]], 'category_B': [[score], [words, phrases]], ...}\n",
                        "\n",
                        "JSON:\n",
                        "\n",
                        "---------------------\n",
                        "{'desire to escape': [[0.3], ['wanting to escape emotional pain', \"I don't know what to do, I don't know how to cope\"]], 'suicidal ideation': [[0], []], 'anger': [[0], []], 'loneliness': [[0.4], ['worried my husband is going to start hating me']]}\n",
                        "\n",
                        "========================\n",
                        "\n",
                        "Classify the text into one or more of the following mental health categories with their corresponding definitions:\n",
                        "\n",
                        "desire to escape: wanting to escape emotional pain\n",
                        "suicidal ideation: desire of not wanting to live\n",
                        "anger: negative high arousal with irritability and anger\n",
                        "loneliness: aversive state experienced when a discrepancy exists between the interpersonal relationships one wishes to have and those that one perceives they currently have. The perception that one's social relationships are not living up to some expectation\n",
                        "\n",
                        "Provide a score (between 0 and 1) as to whether the text clearly mentions the category and an explanation (words or phrases from the text that are very prototypical expressions of the category).\n",
                        "Text: \n",
                        "Anxiety Breakthrough Had a big breakthrough today about my anxiety. Currently withdrawing off of benzos so my anxiety is quite high. I experience a lot of dissociation when I\u2019m anxious, my bodies way to cope. Usually when driving I start to freak out when I dissociate so it makes it worse but today I said fuck it this feels kind of cool. Trying to enjoy the feeling actually made it less and less prominent. Also I have anxiety that when I dissociate I\u2019ll hit another car or something dumb, I literally tried to make myself hit a car and it wasn\u2019t possible my brain stopped myself every time. It\u2019s really crazy how the brain works. Accept the feeling and enjoy it no matter how shitty it is.\n",
                        "\n",
                        "Structure your response in the following JSON format (no extra text):\n",
                        "{'category_A': [[score], [words, phrases]], 'category_B': [[score], [words, phrases]], ...}\n",
                        "\n",
                        "JSON:\n",
                        "\n",
                        "---------------------\n",
                        "{'desire to escape': [[0.2], ['wanting to escape emotional pain', 'trying to enjoy the feeling', 'accept the feeling and enjoy it no matter how shitty it is']], 'suicidal ideation': [[0], []], 'anger': [[0], []], 'loneliness': [[0], []]}\n",
                        "\n",
                        "========================\n",
                        "\n",
                        "Classify the text into one or more of the following mental health categories with their corresponding definitions:\n",
                        "\n",
                        "desire to escape: wanting to escape emotional pain\n",
                        "suicidal ideation: desire of not wanting to live\n",
                        "anger: negative high arousal with irritability and anger\n",
                        "loneliness: aversive state experienced when a discrepancy exists between the interpersonal relationships one wishes to have and those that one perceives they currently have. The perception that one's social relationships are not living up to some expectation\n",
                        "\n",
                        "Provide a score (between 0 and 1) as to whether the text clearly mentions the category and an explanation (words or phrases from the text that are very prototypical expressions of the category).\n",
                        "Text: \n",
                        "Would drinking isopropyl alcohol kill me? Would it be any better than bleach?\n",
                        "\n",
                        "Structure your response in the following JSON format (no extra text):\n",
                        "{'category_A': [[score], [words, phrases]], 'category_B': [[score], [words, phrases]], ...}\n",
                        "\n",
                        "JSON:\n",
                        "\n",
                        "---------------------\n",
                        "{'suicidal ideation': [[0.9], ['Would drinking isopropyl alcohol kill me?', 'Would it be any better than bleach?']], 'desire to escape': [[0.5], ['drinking isopropyl alcohol', 'bleach']]}\n",
                        "\n",
                        "========================\n",
                        "\n"
                    ]
                }
            ],
            "source": [
                "# Loop through texts and apply openrouter\n",
                "results = {}\n",
                "\n",
                "for file, text  in texts.items():\n",
                "    prompt = prompt_template_with_definitions.format(context = 'mental health',\n",
                "              categories = categories_with_definitions,\n",
                "              text= text\n",
                "              )\n",
                "\n",
                "    \n",
                "    print(prompt)\n",
                "    \n",
                "    # Make request. WARNING: this costs some money depending on model\n",
                "    response, metadata = openrouter_request(prompt, OPENROUTER_API_KEY, model = model, temperature=0)\n",
                "    print('---------------------')\n",
                "    print(response)\n",
                "    results[file] = response\n",
                "    print('\\n========================\\n')\n"
            ]
        },
        {
            "cell_type": "code",
            "execution_count": 16,
            "metadata": {},
            "outputs": [
                {
                    "data": {
                        "text/plain": [
                            "{'1_suicidewatch': {'suicidal ideation': [[0.9],\n",
                            "   ['ready to stop existing', \"I don't see a way to ever feel happy again\"]],\n",
                            "  'desire to escape': [[0.7],\n",
                            "   ['that desire is still there', 'years of depression have won']],\n",
                            "  'loneliness': [[0.5],\n",
                            "   [\"Husband decides he's ready to divorce\", 'mostly all of my fault']]},\n",
                            " '2_anxiety': {'desire to escape': [[0.3],\n",
                            "   ['wanting to escape emotional pain',\n",
                            "    'avoid certain interactions',\n",
                            "    \"fear that it's going to happen again\"]],\n",
                            "  'suicidal ideation': [[0], []],\n",
                            "  'anger': [[0], []],\n",
                            "  'loneliness': [[0.5],\n",
                            "   ['social situations',\n",
                            "    'various other interactions have gotten a lot harder',\n",
                            "    'some of my closest friends']]},\n",
                            " '3_anxiety': {'desire to escape': [[0.3],\n",
                            "   ['wanting to escape emotional pain',\n",
                            "    \"I don't know what to do, I don't know how to cope\"]],\n",
                            "  'suicidal ideation': [[0], []],\n",
                            "  'anger': [[0], []],\n",
                            "  'loneliness': [[0.4], ['worried my husband is going to start hating me']]},\n",
                            " '4_anxiety': {'desire to escape': [[0.2],\n",
                            "   ['wanting to escape emotional pain',\n",
                            "    'trying to enjoy the feeling',\n",
                            "    'accept the feeling and enjoy it no matter how shitty it is']],\n",
                            "  'suicidal ideation': [[0], []],\n",
                            "  'anger': [[0], []],\n",
                            "  'loneliness': [[0], []]},\n",
                            " '5_suicidewatch': {'suicidal ideation': [[0.9],\n",
                            "   ['Would drinking isopropyl alcohol kill me?',\n",
                            "    'Would it be any better than bleach?']],\n",
                            "  'desire to escape': [[0.5], ['drinking isopropyl alcohol', 'bleach']]}}"
                        ]
                    },
                    "execution_count": 16,
                    "metadata": {},
                    "output_type": "execute_result"
                }
            ],
            "source": [
                "results"
            ]
        },
        {
            "cell_type": "code",
            "execution_count": 17,
            "metadata": {
                "id": "pUSHMK3-u9Pq"
            },
            "outputs": [
                {
                    "data": {
                        "text/plain": [
                            "{'id': 'gen-1737065577-lyodkOZ1rQjnycKewj7T',\n",
                            " 'provider': 'OpenAI',\n",
                            " 'model': 'openai/gpt-4o-mini',\n",
                            " 'object': 'chat.completion',\n",
                            " 'created': 1737065577,\n",
                            " 'choices': [{'logprobs': None,\n",
                            "   'finish_reason': 'stop',\n",
                            "   'index': 0,\n",
                            "   'message': {'role': 'assistant',\n",
                            "    'content': '{\\n  \"suicidal ideation\": [[0.9], [\"Would drinking isopropyl alcohol kill me?\", \"Would it be any better than bleach?\"]],\\n  \"desire to escape\": [[0.5], [\"drinking isopropyl alcohol\", \"bleach\"]]\\n}',\n",
                            "    'refusal': ''}}],\n",
                            " 'system_fingerprint': 'fp_72ed7ab54c',\n",
                            " 'usage': {'prompt_tokens': 209, 'completion_tokens': 62, 'total_tokens': 271}}"
                        ]
                    },
                    "execution_count": 17,
                    "metadata": {},
                    "output_type": "execute_result"
                }
            ],
            "source": [
                "# Format JSON into CSV\n",
                "metadata\n"
            ]
        },
        {
            "cell_type": "markdown",
            "metadata": {},
            "source": [
                "# Turn JSON results into a csv\n",
                "With each document as a row and each category as a column"
            ]
        },
        {
            "cell_type": "code",
            "execution_count": 18,
            "metadata": {},
            "outputs": [
                {
                    "data": {
                        "text/html": [
                            "<div>\n",
                            "<style scoped>\n",
                            "    .dataframe tbody tr th:only-of-type {\n",
                            "        vertical-align: middle;\n",
                            "    }\n",
                            "\n",
                            "    .dataframe tbody tr th {\n",
                            "        vertical-align: top;\n",
                            "    }\n",
                            "\n",
                            "    .dataframe thead th {\n",
                            "        text-align: right;\n",
                            "    }\n",
                            "</style>\n",
                            "<table border=\"1\" class=\"dataframe\">\n",
                            "  <thead>\n",
                            "    <tr style=\"text-align: right;\">\n",
                            "      <th></th>\n",
                            "      <th>sentence</th>\n",
                            "      <th>suicidal ideation_score</th>\n",
                            "      <th>suicidal ideation_explanation</th>\n",
                            "      <th>desire to escape_score</th>\n",
                            "      <th>desire to escape_explanation</th>\n",
                            "      <th>loneliness_score</th>\n",
                            "      <th>loneliness_explanation</th>\n",
                            "      <th>anger_score</th>\n",
                            "      <th>anger_explanation</th>\n",
                            "    </tr>\n",
                            "  </thead>\n",
                            "  <tbody>\n",
                            "    <tr>\n",
                            "      <th>0</th>\n",
                            "      <td>1_suicidewatch</td>\n",
                            "      <td>0.9</td>\n",
                            "      <td>[ready to stop existing, I don't see a way to ...</td>\n",
                            "      <td>0.7</td>\n",
                            "      <td>[that desire is still there, years of depressi...</td>\n",
                            "      <td>0.5</td>\n",
                            "      <td>[Husband decides he's ready to divorce, mostly...</td>\n",
                            "      <td>NaN</td>\n",
                            "      <td>NaN</td>\n",
                            "    </tr>\n",
                            "    <tr>\n",
                            "      <th>1</th>\n",
                            "      <td>2_anxiety</td>\n",
                            "      <td>0.0</td>\n",
                            "      <td>[]</td>\n",
                            "      <td>0.3</td>\n",
                            "      <td>[wanting to escape emotional pain, avoid certa...</td>\n",
                            "      <td>0.5</td>\n",
                            "      <td>[social situations, various other interactions...</td>\n",
                            "      <td>0.0</td>\n",
                            "      <td>[]</td>\n",
                            "    </tr>\n",
                            "    <tr>\n",
                            "      <th>2</th>\n",
                            "      <td>3_anxiety</td>\n",
                            "      <td>0.0</td>\n",
                            "      <td>[]</td>\n",
                            "      <td>0.3</td>\n",
                            "      <td>[wanting to escape emotional pain, I don't kno...</td>\n",
                            "      <td>0.4</td>\n",
                            "      <td>[worried my husband is going to start hating me]</td>\n",
                            "      <td>0.0</td>\n",
                            "      <td>[]</td>\n",
                            "    </tr>\n",
                            "    <tr>\n",
                            "      <th>3</th>\n",
                            "      <td>4_anxiety</td>\n",
                            "      <td>0.0</td>\n",
                            "      <td>[]</td>\n",
                            "      <td>0.2</td>\n",
                            "      <td>[wanting to escape emotional pain, trying to e...</td>\n",
                            "      <td>0.0</td>\n",
                            "      <td>[]</td>\n",
                            "      <td>0.0</td>\n",
                            "      <td>[]</td>\n",
                            "    </tr>\n",
                            "    <tr>\n",
                            "      <th>4</th>\n",
                            "      <td>5_suicidewatch</td>\n",
                            "      <td>0.9</td>\n",
                            "      <td>[Would drinking isopropyl alcohol kill me?, Wo...</td>\n",
                            "      <td>0.5</td>\n",
                            "      <td>[drinking isopropyl alcohol, bleach]</td>\n",
                            "      <td>NaN</td>\n",
                            "      <td>NaN</td>\n",
                            "      <td>NaN</td>\n",
                            "      <td>NaN</td>\n",
                            "    </tr>\n",
                            "  </tbody>\n",
                            "</table>\n",
                            "</div>"
                        ],
                        "text/plain": [
                            "         sentence  suicidal ideation_score  \\\n",
                            "0  1_suicidewatch                      0.9   \n",
                            "1       2_anxiety                      0.0   \n",
                            "2       3_anxiety                      0.0   \n",
                            "3       4_anxiety                      0.0   \n",
                            "4  5_suicidewatch                      0.9   \n",
                            "\n",
                            "                       suicidal ideation_explanation  desire to escape_score  \\\n",
                            "0  [ready to stop existing, I don't see a way to ...                     0.7   \n",
                            "1                                                 []                     0.3   \n",
                            "2                                                 []                     0.3   \n",
                            "3                                                 []                     0.2   \n",
                            "4  [Would drinking isopropyl alcohol kill me?, Wo...                     0.5   \n",
                            "\n",
                            "                        desire to escape_explanation  loneliness_score  \\\n",
                            "0  [that desire is still there, years of depressi...               0.5   \n",
                            "1  [wanting to escape emotional pain, avoid certa...               0.5   \n",
                            "2  [wanting to escape emotional pain, I don't kno...               0.4   \n",
                            "3  [wanting to escape emotional pain, trying to e...               0.0   \n",
                            "4               [drinking isopropyl alcohol, bleach]               NaN   \n",
                            "\n",
                            "                              loneliness_explanation  anger_score  \\\n",
                            "0  [Husband decides he's ready to divorce, mostly...          NaN   \n",
                            "1  [social situations, various other interactions...          0.0   \n",
                            "2   [worried my husband is going to start hating me]          0.0   \n",
                            "3                                                 []          0.0   \n",
                            "4                                                NaN          NaN   \n",
                            "\n",
                            "  anger_explanation  \n",
                            "0               NaN  \n",
                            "1                []  \n",
                            "2                []  \n",
                            "3                []  \n",
                            "4               NaN  "
                        ]
                    },
                    "metadata": {},
                    "output_type": "display_data"
                }
            ],
            "source": [
                "rows = []\n",
                "for post_id, categories in results.items():\n",
                "    row = {'sentence': post_id}\n",
                "    for category, (score, explanation) in categories.items():\n",
                "        row[f'{category}_score'] = score[0]\n",
                "        row[f'{category}_explanation'] = explanation\n",
                "        # Expand words/phrases into separate columns\n",
                "        # for i, word in enumerate(words):\n",
                "        #     row[f'{category}_word_{i + 1}'] = word\n",
                "    rows.append(row)\n",
                "\n",
                "# Create DataFrame\n",
                "df = pd.DataFrame(rows)\n",
                "display(df)\n",
                "df.to_csv(output_dir+'openrouter_results.csv', index=False)\n"
            ]
        }
    ],
    "metadata": {
        "colab": {
            "provenance": []
        },
        "kernelspec": {
            "display_name": "ct",
            "language": "python",
            "name": "python3"
        },
        "language_info": {
            "codemirror_mode": {
                "name": "ipython",
                "version": 3
            },
            "file_extension": ".py",
            "mimetype": "text/x-python",
            "name": "python",
            "nbconvert_exporter": "python",
            "pygments_lexer": "ipython3",
            "version": "3.10.14"
        }
    },
    "nbformat": 4,
    "nbformat_minor": 0
}
