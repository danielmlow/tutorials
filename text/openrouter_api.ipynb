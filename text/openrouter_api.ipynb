{
  "nbformat": 4,
  "nbformat_minor": 0,
  "metadata": {
    "colab": {
      "provenance": [],
      "authorship_tag": "ABX9TyM1IlJeWmTv0kDe7ydS8Avb",
      "include_colab_link": true
    },
    "kernelspec": {
      "name": "python3",
      "display_name": "Python 3"
    },
    "language_info": {
      "name": "python"
    }
  },
  "cells": [
    {
      "cell_type": "markdown",
      "metadata": {
        "id": "view-in-github",
        "colab_type": "text"
      },
      "source": [
        "<a href=\"https://colab.research.google.com/github/danielmlow/tutorials/blob/main/text/openrouter_api.ipynb\" target=\"_parent\"><img src=\"https://colab.research.google.com/assets/colab-badge.svg\" alt=\"Open In Colab\"/></a>"
      ]
    },
    {
      "cell_type": "code",
      "source": [
        "def openrouter_request(prompt, OPENROUTER_API_KEY, model = 'meta-llama/llama-3.1-70b-instruct:free',\n",
        "                       temperature = 0):\n",
        "  \"\"\"\n",
        "  free models: 20 requests per minute and 200 requests per day. See https://openrouter.ai/docs/limits\n",
        "  \"\"\"\n",
        "\n",
        "\n",
        "\n",
        "  response = requests.post(\n",
        "      url=\"https://openrouter.ai/api/v1/chat/completions\",\n",
        "      headers={\n",
        "        \"Authorization\": f\"Bearer {OPENROUTER_API_KEY}\",\n",
        "\n",
        "      },\n",
        "      data=json.dumps({\n",
        "        \"model\": model, # Optional\n",
        "        \"temperature\": temperature,\n",
        "        \"response_format\": { \"type\": \"json_object\" },\n",
        "        \"messages\": [\n",
        "          { \"role\": \"user\", \"content\": prompt}\n",
        "        ]\n",
        "\n",
        "      })\n",
        "      )\n",
        "  data = json.loads(response.text.strip())\n",
        "  try:\n",
        "    final_result = data['choices'][0]['message']['content']\n",
        "    final_result = dict(eval(final_result))\n",
        "    return final_result, data\n",
        "  # raise error\n",
        "  except KeyError as e:\n",
        "        if str(e) == \"choices\":\n",
        "            print(data)\n",
        "            raise\n",
        "        else:\n",
        "            raise  # re-raise any other KeyError\n",
        ""
      ],
      "metadata": {
        "id": "rs6Qzw5H_coU"
      },
      "execution_count": null,
      "outputs": []
    },
    {
      "cell_type": "code",
      "source": [
        "\n",
        "\n",
        "\n",
        "prompt_template = \"\"\"Classify the text into one or more of the following {context} symptoms: {symptoms}.\n",
        "\n",
        "Provide a certainty score (between 0 and 1) and an explanation for each chosen symptom (words or phrases from the text that are related to the symptom).\n",
        "\n",
        "Text: {text}\n",
        "\n",
        "Structure your response in the following JSON format:\n",
        "{{'symptom_A': [[certainty_score], [words, phrases]], 'symptom_B': [[certainty_score], [words, phrases]], ...}}\n",
        "\n",
        "JSON:\n",
        "\"\"\""
      ],
      "metadata": {
        "id": "MCNUCdyS_O78"
      },
      "execution_count": null,
      "outputs": []
    },
    {
      "cell_type": "code",
      "source": [
        "\n",
        "symptoms ="
      ],
      "metadata": {
        "id": "BIBiZrSF_TqU"
      },
      "execution_count": null,
      "outputs": []
    },
    {
      "cell_type": "code",
      "execution_count": null,
      "metadata": {
        "id": "FgahUr8i_My9"
      },
      "outputs": [],
      "source": [
        "\n",
        "prompt = prompt_template.format(context = 'mental health',\n",
        "              symptoms = symptoms,\n",
        "              text= 'No one cares about me. I go to therapy, but it doesnt work. It wont get better. I want out. Im feeling hyperactive.'\n",
        "              )\n",
        "\n",
        "\n",
        "print(prompt)"
      ]
    },
    {
      "cell_type": "code",
      "source": [
        "OPENROUTER_API_KEY = \"\" # get it from OpenRouter AI\n",
        "model  = 'meta-llama/llama-3.1-70b-instruct:free' # or \"gpt-4o-mini\" or some other one"
      ],
      "metadata": {
        "id": "MyGMEVof_ty7"
      },
      "execution_count": null,
      "outputs": []
    },
    {
      "cell_type": "code",
      "source": [
        "final_result, data = openrouter_request(prompt, OPENROUTER_API_KEY, model = model, temperature=0)"
      ],
      "metadata": {
        "id": "6Q02nv6I_qxl"
      },
      "execution_count": null,
      "outputs": []
    },
    {
      "cell_type": "code",
      "source": [
        "#then you"
      ],
      "metadata": {
        "id": "ar22N339_hQ9"
      },
      "execution_count": null,
      "outputs": []
    }
  ]
}