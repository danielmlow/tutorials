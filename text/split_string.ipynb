{
  "nbformat": 4,
  "nbformat_minor": 0,
  "metadata": {
    "colab": {
      "provenance": [],
      "collapsed_sections": [],
      "authorship_tag": "ABX9TyOpfnlh1H7NaaFDxaxrZNud",
      "include_colab_link": true
    },
    "kernelspec": {
      "name": "python3",
      "display_name": "Python 3"
    },
    "language_info": {
      "name": "python"
    }
  },
  "cells": [
    {
      "cell_type": "markdown",
      "metadata": {
        "id": "view-in-github",
        "colab_type": "text"
      },
      "source": [
        "<a href=\"https://colab.research.google.com/github/danielmlow/tutorials/blob/main/text/split_string.ipynb\" target=\"_parent\"><img src=\"https://colab.research.google.com/assets/colab-badge.svg\" alt=\"Open In Colab\"/></a>"
      ]
    },
    {
      "cell_type": "code",
      "source": [
        "!pip install -q textwrap3"
      ],
      "metadata": {
        "id": "nlvC4BICKi3t"
      },
      "execution_count": 2,
      "outputs": []
    },
    {
      "cell_type": "code",
      "execution_count": 14,
      "metadata": {
        "colab": {
          "base_uri": "https://localhost:8080/"
        },
        "id": "HC5MFOdjKbRt",
        "outputId": "00b6f9a1-e338-4113-9414-d4c036b8af84"
      },
      "outputs": [
        {
          "output_type": "stream",
          "name": "stdout",
          "text": [
            "hello I\n",
            "am a\n",
            "boy.\n"
          ]
        }
      ],
      "source": [
        "\n",
        "from textwrap3 import wrap, fill\n",
        "def wrap_string(string, character_width = 8, sep = '\\n', break_long_words=False):\n",
        "  '''\n",
        "  # this will create breaks by space without breaking words if break_long_words = False\n",
        "  character_width: includes spaces\n",
        "  sep: can be tab, or double \\n\\n\n",
        "  '''\n",
        "  \n",
        "  \n",
        "\n",
        "  return fill(str(string), width=character_width,break_long_words=break_long_words)\n",
        "\n",
        "print(wrap_string('hello I am a boy.', break_long_words=False))\n"
      ]
    },
    {
      "cell_type": "code",
      "source": [],
      "metadata": {
        "id": "I--f6DaDKhtJ"
      },
      "execution_count": null,
      "outputs": []
    }
  ]
}