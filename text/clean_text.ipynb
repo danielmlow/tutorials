{
  "nbformat": 4,
  "nbformat_minor": 0,
  "metadata": {
    "colab": {
      "provenance": [],
      "authorship_tag": "ABX9TyOB6JQNpMUU6XfZj9NzJjR9",
      "include_colab_link": true
    },
    "kernelspec": {
      "name": "python3",
      "display_name": "Python 3"
    },
    "language_info": {
      "name": "python"
    }
  },
  "cells": [
    {
      "cell_type": "markdown",
      "metadata": {
        "id": "view-in-github",
        "colab_type": "text"
      },
      "source": [
        "<a href=\"https://colab.research.google.com/github/danielmlow/tutorials/blob/main/text/clean_text.ipynb\" target=\"_parent\"><img src=\"https://colab.research.google.com/assets/colab-badge.svg\" alt=\"Open In Colab\"/></a>"
      ]
    },
    {
      "cell_type": "code",
      "execution_count": null,
      "metadata": {
        "id": "NJfc4YWcFoPP"
      },
      "outputs": [],
      "source": [
        "!pip install -q contractions==0.1.73\n",
        "\n",
        "import contractions\n",
        "\n",
        "def preprocess(string):\n",
        "    string = string.replace('|body|',\"\")\n",
        "    string = re.sub(r\"http\\S+\", \"\", string)\n",
        "    string = re.sub(r\"www+\", \"\", string)\n",
        "    #fix contractions\n",
        "    string = contractions.fix(string,slang=False)\n",
        "    return string\n"
      ]
    }
  ]
}